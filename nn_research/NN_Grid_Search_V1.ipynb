{
  "cells": [
    {
      "cell_type": "code",
      "execution_count": 1,
      "metadata": {
        "colab": {
          "base_uri": "https://localhost:8080/"
        },
        "id": "q0SGfc28-E2x",
        "outputId": "734de84b-7856-42e9-f37a-c8b5ecf59270"
      },
      "outputs": [
        {
          "name": "stdout",
          "output_type": "stream",
          "text": [
            "Looking in indexes: https://pypi.org/simple, https://us-python.pkg.dev/colab-wheels/public/simple/\n",
            "Collecting wandb\n",
            "  Downloading wandb-0.15.0-py3-none-any.whl (2.0 MB)\n",
            "\u001b[2K     \u001b[90m━━━━━━━━━━━━━━━━━━━━━━━━━━━━━━━━━━━━━━━━\u001b[0m \u001b[32m2.0/2.0 MB\u001b[0m \u001b[31m36.6 MB/s\u001b[0m eta \u001b[36m0:00:00\u001b[0m\n",
            "\u001b[?25hRequirement already satisfied: setuptools in /usr/local/lib/python3.10/dist-packages (from wandb) (67.7.2)\n",
            "Collecting pathtools\n",
            "  Downloading pathtools-0.1.2.tar.gz (11 kB)\n",
            "  Preparing metadata (setup.py) ... \u001b[?25l\u001b[?25hdone\n",
            "Collecting GitPython!=3.1.29,>=1.0.0\n",
            "  Downloading GitPython-3.1.31-py3-none-any.whl (184 kB)\n",
            "\u001b[2K     \u001b[90m━━━━━━━━━━━━━━━━━━━━━━━━━━━━━━━━━━━━━━━\u001b[0m \u001b[32m184.3/184.3 kB\u001b[0m \u001b[31m7.3 MB/s\u001b[0m eta \u001b[36m0:00:00\u001b[0m\n",
            "\u001b[?25hCollecting sentry-sdk>=1.0.0\n",
            "  Downloading sentry_sdk-1.21.1-py2.py3-none-any.whl (201 kB)\n",
            "\u001b[2K     \u001b[90m━━━━━━━━━━━━━━━━━━━━━━━━━━━━━━━━━━━━━━━\u001b[0m \u001b[32m201.7/201.7 kB\u001b[0m \u001b[31m8.7 MB/s\u001b[0m eta \u001b[36m0:00:00\u001b[0m\n",
            "\u001b[?25hRequirement already satisfied: psutil>=5.0.0 in /usr/local/lib/python3.10/dist-packages (from wandb) (5.9.5)\n",
            "Requirement already satisfied: appdirs>=1.4.3 in /usr/local/lib/python3.10/dist-packages (from wandb) (1.4.4)\n",
            "Requirement already satisfied: requests<3,>=2.0.0 in /usr/local/lib/python3.10/dist-packages (from wandb) (2.27.1)\n",
            "Requirement already satisfied: PyYAML in /usr/local/lib/python3.10/dist-packages (from wandb) (6.0)\n",
            "Collecting setproctitle\n",
            "  Downloading setproctitle-1.3.2-cp310-cp310-manylinux_2_5_x86_64.manylinux1_x86_64.manylinux_2_17_x86_64.manylinux2014_x86_64.whl (30 kB)\n",
            "Requirement already satisfied: protobuf!=4.21.0,<5,>=3.19.0 in /usr/local/lib/python3.10/dist-packages (from wandb) (3.20.3)\n",
            "Collecting docker-pycreds>=0.4.0\n",
            "  Downloading docker_pycreds-0.4.0-py2.py3-none-any.whl (9.0 kB)\n",
            "Requirement already satisfied: Click!=8.0.0,>=7.0 in /usr/local/lib/python3.10/dist-packages (from wandb) (8.1.3)\n",
            "Requirement already satisfied: six>=1.4.0 in /usr/local/lib/python3.10/dist-packages (from docker-pycreds>=0.4.0->wandb) (1.16.0)\n",
            "Collecting gitdb<5,>=4.0.1\n",
            "  Downloading gitdb-4.0.10-py3-none-any.whl (62 kB)\n",
            "\u001b[2K     \u001b[90m━━━━━━━━━━━━━━━━━━━━━━━━━━━━━━━━━━━━━━━━\u001b[0m \u001b[32m62.7/62.7 kB\u001b[0m \u001b[31m3.9 MB/s\u001b[0m eta \u001b[36m0:00:00\u001b[0m\n",
            "\u001b[?25hRequirement already satisfied: urllib3<1.27,>=1.21.1 in /usr/local/lib/python3.10/dist-packages (from requests<3,>=2.0.0->wandb) (1.26.15)\n",
            "Requirement already satisfied: certifi>=2017.4.17 in /usr/local/lib/python3.10/dist-packages (from requests<3,>=2.0.0->wandb) (2022.12.7)\n",
            "Requirement already satisfied: charset-normalizer~=2.0.0 in /usr/local/lib/python3.10/dist-packages (from requests<3,>=2.0.0->wandb) (2.0.12)\n",
            "Requirement already satisfied: idna<4,>=2.5 in /usr/local/lib/python3.10/dist-packages (from requests<3,>=2.0.0->wandb) (3.4)\n",
            "Collecting smmap<6,>=3.0.1\n",
            "  Downloading smmap-5.0.0-py3-none-any.whl (24 kB)\n",
            "Building wheels for collected packages: pathtools\n",
            "  Building wheel for pathtools (setup.py) ... \u001b[?25l\u001b[?25hdone\n",
            "  Created wheel for pathtools: filename=pathtools-0.1.2-py3-none-any.whl size=8807 sha256=4a943b8d40be8c68ef4afa7b658db27dceb9c34fabbb83d28ed436a5075083ab\n",
            "  Stored in directory: /root/.cache/pip/wheels/e7/f3/22/152153d6eb222ee7a56ff8617d80ee5207207a8c00a7aab794\n",
            "Successfully built pathtools\n",
            "Installing collected packages: pathtools, smmap, setproctitle, sentry-sdk, docker-pycreds, gitdb, GitPython, wandb\n",
            "Successfully installed GitPython-3.1.31 docker-pycreds-0.4.0 gitdb-4.0.10 pathtools-0.1.2 sentry-sdk-1.21.1 setproctitle-1.3.2 smmap-5.0.0 wandb-0.15.0\n"
          ]
        }
      ],
      "source": [
        "!pip install wandb"
      ]
    },
    {
      "cell_type": "code",
      "execution_count": 2,
      "metadata": {
        "colab": {
          "base_uri": "https://localhost:8080/",
          "height": 69
        },
        "id": "xUwPNVZL-GJd",
        "outputId": "3e99547a-b180-4abd-a1ed-b89fd6080674"
      },
      "outputs": [
        {
          "data": {
            "application/javascript": "\n        window._wandbApiKey = new Promise((resolve, reject) => {\n            function loadScript(url) {\n            return new Promise(function(resolve, reject) {\n                let newScript = document.createElement(\"script\");\n                newScript.onerror = reject;\n                newScript.onload = resolve;\n                document.body.appendChild(newScript);\n                newScript.src = url;\n            });\n            }\n            loadScript(\"https://cdn.jsdelivr.net/npm/postmate/build/postmate.min.js\").then(() => {\n            const iframe = document.createElement('iframe')\n            iframe.style.cssText = \"width:0;height:0;border:none\"\n            document.body.appendChild(iframe)\n            const handshake = new Postmate({\n                container: iframe,\n                url: 'https://wandb.ai/authorize'\n            });\n            const timeout = setTimeout(() => reject(\"Couldn't auto authenticate\"), 5000)\n            handshake.then(function(child) {\n                child.on('authorize', data => {\n                    clearTimeout(timeout)\n                    resolve(data)\n                });\n            });\n            })\n        });\n    ",
            "text/plain": [
              "<IPython.core.display.Javascript object>"
            ]
          },
          "metadata": {},
          "output_type": "display_data"
        },
        {
          "name": "stderr",
          "output_type": "stream",
          "text": [
            "\u001b[34m\u001b[1mwandb\u001b[0m: Appending key for api.wandb.ai to your netrc file: /root/.netrc\n"
          ]
        },
        {
          "data": {
            "text/plain": [
              "True"
            ]
          },
          "execution_count": 2,
          "metadata": {},
          "output_type": "execute_result"
        }
      ],
      "source": [
        "import pandas as pd\n",
        "import numpy as np\n",
        "\n",
        "import tensorflow as tf\n",
        "import tensorflow.keras as ks\n",
        "\n",
        "from sklearn.metrics import (\n",
        "    mean_squared_error, mean_absolute_error, mean_poisson_deviance, \n",
        "    brier_score_loss, roc_auc_score, roc_curve, RocCurveDisplay\n",
        ")\n",
        "\n",
        "import pickle\n",
        "from datetime import datetime\n",
        "\n",
        "import wandb\n",
        "wandb.login(relogin = True)\n"
      ]
    },
    {
      "cell_type": "markdown",
      "metadata": {
        "id": "SocNtEhZEDMG"
      },
      "source": [
        "# Prep Data Once"
      ]
    },
    {
      "cell_type": "code",
      "execution_count": 3,
      "metadata": {
        "id": "48p8QEt7ECUP"
      },
      "outputs": [],
      "source": [
        "def filter_nested_array(x, keep):\n",
        "  result = [[y[key] for key in keep] for y in x]\n",
        "\n",
        "  return np.array(result, dtype = 'object')\n",
        "\n",
        "def prepare_row(row):\n",
        "  # Figure out Claims\n",
        "  claims_keep_key = ['bi_ind', 'coll_ind', 'comp_ind', 'ers_ind', 'mpc_ind', 'pd_ind', 'ubi_ind',\n",
        "                      'veh_had_bi_cov_ind', 'veh_had_coll_cov_ind', 'veh_had_comp_cov_ind', 'veh_had_ers_cov_ind', \n",
        "                     'veh_had_mpc_cov_ind', 'veh_had_pd_cov_ind', 'veh_had_ubi_cov_ind']\n",
        "                      \n",
        "  other_claims = filter_nested_array(row['other_claims'], claims_keep_key)\n",
        "  other_claim_cnt = len(other_claims)\n",
        "  if other_claim_cnt > 0:\n",
        "    other_claims = np.append(other_claims, np.zeros([len(other_claims),1]), 1)\n",
        "\n",
        "  veh_claims = filter_nested_array(row['vehicle_claims'], claims_keep_key)\n",
        "  claim_cnt = len(veh_claims)\n",
        "  if claim_cnt > 0:\n",
        "    veh_claims = np.append(veh_claims, np.ones([len(veh_claims),1]), 1)\n",
        "\n",
        "  if claim_cnt + other_claim_cnt == 0:\n",
        "      all_claims = np.array([[0,0,0,0,0,0,0,0,0,0,0,0,0,0,0]])\n",
        "  elif claim_cnt == 0:\n",
        "    all_claims = other_claims\n",
        "  elif other_claim_cnt == 0:\n",
        "    all_claims = veh_claims\n",
        "  else:\n",
        "    all_claims = np.append(veh_claims, other_claims, axis = 0)\n",
        "\n",
        "  all_claims = tf.ragged.constant([all_claims.astype('float16')], ragged_rank = 1, inner_shape = (15,))\n",
        "\n",
        "  # Figure Out Drivers\n",
        "  drivers = filter_nested_array(row['driver_info'], ['driver_age', 'driver_gender', 'driver_tenure'])\n",
        "  drivers[:, 0] = (drivers[:, 0] - 50)/50\n",
        "  drivers[:, 1] = np.where(drivers[:, 1] == 'm', 1, 0)\n",
        "  drivers[:, 2] = (drivers[:, 2] - 10)/10\n",
        "  drivers = tf.ragged.constant([drivers.astype('float16')], ragged_rank = 1, inner_shape = (3,))\n",
        "\n",
        "  # Figure out Vehicles\n",
        "  vehicles = filter_nested_array(row['household_vehicles_info'], ['this_vehicle_ind', 'vehicle_age', 'vehicle_type', 'vehicle_years_owned'])\n",
        "  vehicles[:, 1] = (vehicles[:, 1] - 15)/15\n",
        "  vehicles[:, 3] = (vehicles[:, 3] - 15)/15\n",
        "\n",
        "  veh_type = vehicles[:, 2]\n",
        "  vehicles[:, 2] = np.where(veh_type == 'van', 1, 0) + np.where(veh_type == 'sedan', 2, 0) + np.where(veh_type == 'sports car', 3, 0) + np.where(veh_type == 'suv', 4, 0)\n",
        "  vehicles = tf.ragged.constant([vehicles.astype('float16')], ragged_rank = 1, inner_shape = (4,))\n",
        "\n",
        "  other = [(row['credit_score'] - 600)/500,\n",
        "           (row['garaging_location'] == 'country') * 1 + (row['garaging_location'] == 'downtown') * 2, \n",
        "           (row['household_tenure'] - 15)/10,\n",
        "           (row['multiline_houses']/2),\n",
        "           row['multiline_rental'],\n",
        "           row['multiline_personal_article_policy'],\n",
        "           row['multiline_personal_liability_umbrella'],\n",
        "           (row['vehicle_count']-3)/3,\n",
        "           (row['annual_mileage'] - 10000)/10000,\n",
        "           (row['vehicle_age'] - 15)/15,\n",
        "           np.where(row['vehicle_type'] == 'van', 1, 0) + np.where(row['vehicle_type'] == 'sedan', 2, 0) + np.where(row['vehicle_type'] == 'sports car', 3, 0) + np.where(row['vehicle_type'] == 'suv', 4, 0),\n",
        "           (row['vehicle_years_owned'] - 10)/15\n",
        "           ]\n",
        "  other = tf.constant(value = np.array(other, dtype = 'float16'))\n",
        "\n",
        "  result = {\n",
        "      'driver_info': drivers,\n",
        "      'vehicle_info': vehicles,\n",
        "      'claims_info': all_claims,\n",
        "      'other_data': other,\n",
        "      'target': row['vehicle_claim_cnt_pd_0']\n",
        "  }\n",
        "\n",
        "  return result\n",
        "\n",
        "ragged = lambda y : tf.concat(y.to_list(), axis = 0)\n",
        "\n",
        "def prep_one_datas(features):\n",
        "\n",
        "  x = [\n",
        "      ragged(features['driver_info']), \n",
        "      ragged(features['vehicle_info']), \n",
        "      ragged(features['claims_info']), \n",
        "      tf.convert_to_tensor(features['other_data'].to_list())\n",
        "  ]\n",
        "\n",
        "  y = tf.convert_to_tensor(features['target'].values)\n",
        "\n",
        "  return x,y"
      ]
    },
    {
      "cell_type": "code",
      "execution_count": 4,
      "metadata": {
        "colab": {
          "base_uri": "https://localhost:8080/",
          "height": 307,
          "referenced_widgets": [
            "3fd8b737ef984a9cb15a5e73d3e4644a",
            "ba61344d1b9448f185ba31386a2e88f9",
            "7614c9c17d0a408bbdd33205d481f7df",
            "701c083262274110bb09bddbdbd8af88",
            "5e82fd03379342dcb579b0556d5e0164",
            "011e58f43b7c44acb8abd76a91492192",
            "311caea2e0e44fb4975397d22055d1ef",
            "b27185d17ee74e1d9bb8f8fa3643d22a"
          ]
        },
        "id": "83AJkQAPEOHm",
        "outputId": "309059b4-94cd-4ddc-caa4-63edcd5a2db9"
      },
      "outputs": [
        {
          "name": "stderr",
          "output_type": "stream",
          "text": [
            "\u001b[34m\u001b[1mwandb\u001b[0m: Currently logged in as: \u001b[33mtylerrosacker2022\u001b[0m (\u001b[33mmsds_498_claims_modeling\u001b[0m). Use \u001b[1m`wandb login --relogin`\u001b[0m to force relogin\n"
          ]
        },
        {
          "data": {
            "text/html": [
              "Tracking run with wandb version 0.15.0"
            ],
            "text/plain": [
              "<IPython.core.display.HTML object>"
            ]
          },
          "metadata": {},
          "output_type": "display_data"
        },
        {
          "data": {
            "text/html": [
              "Run data is saved locally in <code>/content/wandb/run-20230430_165727-9c5e0kam</code>"
            ],
            "text/plain": [
              "<IPython.core.display.HTML object>"
            ]
          },
          "metadata": {},
          "output_type": "display_data"
        },
        {
          "data": {
            "text/html": [
              "Syncing run <strong><a href='https://wandb.ai/msds_498_claims_modeling/claims_modeling/runs/9c5e0kam' target=\"_blank\">Data Prep for NN - 2023-04-30-16-57-27</a></strong> to <a href='https://wandb.ai/msds_498_claims_modeling/claims_modeling' target=\"_blank\">Weights & Biases</a> (<a href='https://wandb.me/run' target=\"_blank\">docs</a>)<br/>"
            ],
            "text/plain": [
              "<IPython.core.display.HTML object>"
            ]
          },
          "metadata": {},
          "output_type": "display_data"
        },
        {
          "data": {
            "text/html": [
              " View project at <a href='https://wandb.ai/msds_498_claims_modeling/claims_modeling' target=\"_blank\">https://wandb.ai/msds_498_claims_modeling/claims_modeling</a>"
            ],
            "text/plain": [
              "<IPython.core.display.HTML object>"
            ]
          },
          "metadata": {},
          "output_type": "display_data"
        },
        {
          "data": {
            "text/html": [
              " View run at <a href='https://wandb.ai/msds_498_claims_modeling/claims_modeling/runs/9c5e0kam' target=\"_blank\">https://wandb.ai/msds_498_claims_modeling/claims_modeling/runs/9c5e0kam</a>"
            ],
            "text/plain": [
              "<IPython.core.display.HTML object>"
            ]
          },
          "metadata": {},
          "output_type": "display_data"
        },
        {
          "name": "stderr",
          "output_type": "stream",
          "text": [
            "\u001b[34m\u001b[1mwandb\u001b[0m: Downloading large artifact sythetic_data:v5, 153.76MB. 3 files... \n",
            "\u001b[34m\u001b[1mwandb\u001b[0m:   3 of 3 files downloaded.  \n",
            "Done. 0:0:7.0\n"
          ]
        },
        {
          "data": {
            "text/html": [
              "Waiting for W&B process to finish... <strong style=\"color:green\">(success).</strong>"
            ],
            "text/plain": [
              "<IPython.core.display.HTML object>"
            ]
          },
          "metadata": {},
          "output_type": "display_data"
        },
        {
          "data": {
            "application/vnd.jupyter.widget-view+json": {
              "model_id": "3fd8b737ef984a9cb15a5e73d3e4644a",
              "version_major": 2,
              "version_minor": 0
            },
            "text/plain": [
              "VBox(children=(Label(value='0.001 MB of 0.001 MB uploaded (0.000 MB deduped)\\r'), FloatProgress(value=1.0, max…"
            ]
          },
          "metadata": {},
          "output_type": "display_data"
        },
        {
          "data": {
            "text/html": [
              " View run <strong style=\"color:#cdcd00\">Data Prep for NN - 2023-04-30-16-57-27</strong> at: <a href='https://wandb.ai/msds_498_claims_modeling/claims_modeling/runs/9c5e0kam' target=\"_blank\">https://wandb.ai/msds_498_claims_modeling/claims_modeling/runs/9c5e0kam</a><br/>Synced 5 W&B file(s), 0 media file(s), 0 artifact file(s) and 0 other file(s)"
            ],
            "text/plain": [
              "<IPython.core.display.HTML object>"
            ]
          },
          "metadata": {},
          "output_type": "display_data"
        },
        {
          "data": {
            "text/html": [
              "Find logs at: <code>./wandb/run-20230430_165727-9c5e0kam/logs</code>"
            ],
            "text/plain": [
              "<IPython.core.display.HTML object>"
            ]
          },
          "metadata": {},
          "output_type": "display_data"
        }
      ],
      "source": [
        "with wandb.init(\n",
        "      project=\"claims_modeling\",\n",
        "      group = 'Data Prep',\n",
        "      name = f'Data Prep for NN - {datetime.now().strftime(\"%Y-%m-%d-%H-%M-%S\")}',\n",
        "      notes=\"Prep for NN Training, No Model Build!\",\n",
        "      tags=[\"data\"]) as run:\n",
        "    datas = run.use_artifact('msds_498_claims_modeling/claims_modeling/sythetic_data:v5')\n",
        "    directory = datas.download(root = 'datasets')\n",
        "\n",
        "    train_features = pd.read_parquet('datasets/split=train') \\\n",
        "      .apply(prepare_row, axis = 1, result_type = 'expand')\n",
        "\n",
        "    test_features = pd.read_parquet('datasets/split=test')\\\n",
        "      .apply(prepare_row, axis = 1, result_type = 'expand')\n",
        "\n",
        "    val_features = pd.read_parquet('datasets/split=validation')\\\n",
        "      .apply(prepare_row, axis = 1, result_type = 'expand')\n",
        "\n",
        "    train_x, train_y = prep_one_datas(train_features)\n",
        "    test_x, test_y = prep_one_datas(test_features)\n",
        "    val_x, val_y = prep_one_datas(val_features)"
      ]
    },
    {
      "cell_type": "markdown",
      "metadata": {
        "id": "zsRQbF-rEINK"
      },
      "source": [
        "# Model Train Code"
      ]
    },
    {
      "cell_type": "code",
      "execution_count": 5,
      "metadata": {
        "id": "E0y3ubPr-kH2"
      },
      "outputs": [],
      "source": [
        "def build_model(run):\n",
        "  # driver_info\n",
        "  driver_input = ks.Input(shape = (None, 3), name = 'driver_info')\n",
        "  driver_dense_1 = tf.keras.layers.Dense(run.config['driver_dense'], \n",
        "                                        activation=tf.keras.layers.LeakyReLU(alpha=run.config['relu_leakiness']),\n",
        "                                        name = \"Driver_Info_Dense\"\n",
        "                                        )(driver_input)\n",
        "  driver_agged = tf.math.reduce_sum(driver_dense_1, 1)\n",
        "\n",
        "  # vehicle_info\n",
        "  vehicle_input = ks.Input(shape = (None, 4), name = 'vehicle_info')\n",
        "  vehicle_dense_1 = tf.keras.layers.Dense(run.config['veh_dense'], \n",
        "                                          activation=tf.keras.layers.LeakyReLU(alpha=run.config['relu_leakiness']),\n",
        "                                        name = \"Vehicle_Info_Dense\"\n",
        "                                          )(vehicle_input)\n",
        "  vehicle_agged = tf.math.reduce_sum(vehicle_dense_1, 1)\n",
        "\n",
        "  # claims_info\n",
        "  claims_input = ks.Input(shape = (None, 15), name = 'claims_info')\n",
        "  claims_dense_1 = tf.keras.layers.Dense(run.config['claim_dense'], \n",
        "                                        activation=tf.keras.layers.LeakyReLU(alpha=run.config['relu_leakiness']),\n",
        "                                        name = \"Claim_Info_Dense\"\n",
        "                                        )(claims_input)\n",
        "  claims_agged = tf.math.reduce_sum(claims_dense_1, 1)\n",
        "\n",
        "  # other_data\n",
        "  other_input = ks.Input(shape = (12,), name = 'other_data')\n",
        "\n",
        "  combined = tf.keras.layers.Concatenate()([driver_agged, vehicle_agged, claims_agged, other_input])\n",
        "  combined_norm = tf.keras.layers.BatchNormalization()(combined)\n",
        "\n",
        "  dense_1 = tf.keras.layers.Dense(run.config['dense_res_block_width'], \n",
        "                                  activation=tf.keras.layers.LeakyReLU(alpha=run.config['relu_leakiness']),\n",
        "                                  name = \"Res_Layer_1\"\n",
        "                                  )(combined_norm)\n",
        "  drop_1 = tf.keras.layers.Dropout(run.config['dropout'])(dense_1)\n",
        "\n",
        "  dense_2 = tf.keras.layers.Dense(run.config['dense_res_block_width'], \n",
        "                                  activation=tf.keras.layers.LeakyReLU(alpha=run.config['relu_leakiness']),\n",
        "                                  name = \"Res_Layer_2\"\n",
        "                                  )(drop_1)\n",
        "\n",
        "  drop_2 = tf.keras.layers.Dropout(run.config['dropout'])(dense_2)\n",
        "\n",
        "  res_layer = tf.keras.layers.Add(name = \"Combined_Res_Result\")([drop_1, drop_2])\n",
        "\n",
        "  target_layer = tf.keras.layers.Dense(1, \n",
        "                                      activation=tf.keras.activations.exponential, \n",
        "                                      name = 'target')(res_layer)\n",
        "\n",
        "  model = ks.Model(inputs = [driver_input, vehicle_input, claims_input, other_input],\n",
        "                outputs = [target_layer])\n",
        "\n",
        "  model.compile(\n",
        "                optimizer=tf.keras.optimizers.experimental.AdamW(\n",
        "                    learning_rate = run.config['learning_rate'],\n",
        "                    weight_decay = run.config['weight_decay']\n",
        "                ), \n",
        "                loss=tf.keras.losses.Poisson())\n",
        "  \n",
        "  return model"
      ]
    },
    {
      "cell_type": "code",
      "execution_count": 6,
      "metadata": {
        "id": "m3-Elkaq-74l"
      },
      "outputs": [],
      "source": [
        "def log_stats(dataset_name, prediction, truth):\n",
        "  prediction = np.clip(prediction, a_min = 0.001, a_max = np.inf)\n",
        "  predicted_p_gt_0 = np.clip(1 - np.exp(-prediction), a_min = 0, a_max = 1)\n",
        "  truth_capped = np.clip(truth, a_min = 0, a_max = 1)\n",
        "\n",
        "  fpr, tpr, _ = roc_curve(truth_capped, predicted_p_gt_0)\n",
        "  roc_display = RocCurveDisplay(fpr=fpr, tpr=tpr).plot()\n",
        "  \n",
        "  metrics = {\n",
        "      f\"{dataset_name}_prediction_dist\": wandb.Histogram(prediction),\n",
        "      f\"{dataset_name}_mse\": mean_squared_error(truth, prediction), \n",
        "      f\"{dataset_name}_mae\": mean_absolute_error(truth, prediction),\n",
        "      f\"{dataset_name}_mean_poisson_deviance\": mean_poisson_deviance(truth, prediction),\n",
        "      f\"{dataset_name}_brier_loss\": brier_score_loss(truth_capped, predicted_p_gt_0),\n",
        "      f\"{dataset_name}_auc_score\": roc_auc_score(truth_capped, predicted_p_gt_0),\n",
        "      f\"{dataset_name}_roc\": roc_display.figure_\n",
        "    }\n",
        "  wandb.log(metrics)\n",
        "  \n"
      ]
    },
    {
      "cell_type": "code",
      "execution_count": 7,
      "metadata": {
        "id": "SbcAZUAO-GO2"
      },
      "outputs": [],
      "source": [
        "def main(config = None):\n",
        "  with wandb.init(\n",
        "      project=\"claims_modeling\",\n",
        "      group = 'NN Template V1',\n",
        "      name = f'NN Train - {datetime.now().strftime(\"%Y-%m-%d-%H-%M-%S\")}',\n",
        "      notes=\"Architecture 1 NN\",\n",
        "      tags=[\"nn\"],\n",
        "      save_code = True,\n",
        "      sync_tensorboard=True,\n",
        "      config=config) as run:\n",
        "    datas = run.use_artifact('msds_498_claims_modeling/claims_modeling/sythetic_data:v5')\n",
        "    model = build_model(run)\n",
        "\n",
        "    tf.keras.utils.plot_model(\n",
        "      model,\n",
        "      to_file='model.png',\n",
        "      show_shapes=True,\n",
        "      show_layer_names=True,\n",
        "      show_layer_activations=True,\n",
        "      show_trainable=True\n",
        "    )\n",
        "\n",
        "    artifact = wandb.Artifact(\n",
        "        name='model_arch_graph', \n",
        "        type='image'\n",
        "        )    \n",
        "\n",
        "    artifact.add_file(local_path='model.png')\n",
        "    run.log_artifact(artifact)\n",
        "\n",
        "    tensorboard_callback = tf.keras.callbacks.TensorBoard(histogram_freq=1)\n",
        "\n",
        "    model.fit(train_x, \n",
        "              train_y, \n",
        "              epochs = run.config['epochs'], \n",
        "              batch_size = run.config['batch_size'], \n",
        "              validation_data=(test_x, test_y),\n",
        "              callbacks=[tensorboard_callback])\n",
        "    \n",
        "    train_pred = model.predict(train_x, batch_size = 1024)\n",
        "    test_pred = model.predict(test_x, batch_size = 1024)\n",
        "    val_pred = model.predict(val_x, batch_size = 1024)\n",
        "\n",
        "    log_stats('train', train_pred, train_y)\n",
        "    log_stats('test', test_pred, test_y)\n",
        "    log_stats('val', val_pred, val_y)\n",
        "\n",
        "    model.save('model')\n",
        "    wandb.save('model')"
      ]
    },
    {
      "cell_type": "markdown",
      "metadata": {
        "id": "uTqtfKL3Jenz"
      },
      "source": [
        "# Grid Search!"
      ]
    },
    {
      "cell_type": "code",
      "execution_count": null,
      "metadata": {
        "colab": {
          "base_uri": "https://localhost:8080/",
          "height": 540
        },
        "id": "r1ot2J03-GRw",
        "outputId": "645f730e-3e20-4995-9351-36328dc999df"
      },
      "outputs": [
        {
          "name": "stderr",
          "output_type": "stream",
          "text": [
            "\u001b[34m\u001b[1mwandb\u001b[0m: Agent Starting Run: oyc5fksr with config:\n",
            "\u001b[34m\u001b[1mwandb\u001b[0m: \tbatch_size: 256\n",
            "\u001b[34m\u001b[1mwandb\u001b[0m: \tclaim_dense: 10\n",
            "\u001b[34m\u001b[1mwandb\u001b[0m: \tdense_res_block_width: 43\n",
            "\u001b[34m\u001b[1mwandb\u001b[0m: \tdriver_dense: 4\n",
            "\u001b[34m\u001b[1mwandb\u001b[0m: \tdropout: 0.29374955518520646\n",
            "\u001b[34m\u001b[1mwandb\u001b[0m: \tepochs: 25\n",
            "\u001b[34m\u001b[1mwandb\u001b[0m: \tlearning_rate: 0.0018974163167356484\n",
            "\u001b[34m\u001b[1mwandb\u001b[0m: \trelu_leakiness: 0.019171223690129184\n",
            "\u001b[34m\u001b[1mwandb\u001b[0m: \tveh_dense: 3\n",
            "\u001b[34m\u001b[1mwandb\u001b[0m: \tweight_decay: 1.2496176548696622e-05\n",
            "\u001b[34m\u001b[1mwandb\u001b[0m: \u001b[33mWARNING\u001b[0m Ignored wandb.init() arg project when running a sweep.\n"
          ]
        },
        {
          "data": {
            "text/html": [
              "Tracking run with wandb version 0.15.0"
            ],
            "text/plain": [
              "<IPython.core.display.HTML object>"
            ]
          },
          "metadata": {},
          "output_type": "display_data"
        },
        {
          "data": {
            "text/html": [
              "Run data is saved locally in <code>/content/wandb/run-20230430_182401-oyc5fksr</code>"
            ],
            "text/plain": [
              "<IPython.core.display.HTML object>"
            ]
          },
          "metadata": {},
          "output_type": "display_data"
        },
        {
          "data": {
            "text/html": [
              "Syncing run <strong><a href='https://wandb.ai/msds_498_claims_modeling/claims_modeling/runs/oyc5fksr' target=\"_blank\">NN Train - 2023-04-30-18-23-59</a></strong> to <a href='https://wandb.ai/msds_498_claims_modeling/claims_modeling' target=\"_blank\">Weights & Biases</a> (<a href='https://wandb.me/run' target=\"_blank\">docs</a>)<br/>Sweep page: <a href='https://wandb.ai/msds_498_claims_modeling/claims_modeling/sweeps/koeqejgd' target=\"_blank\">https://wandb.ai/msds_498_claims_modeling/claims_modeling/sweeps/koeqejgd</a>"
            ],
            "text/plain": [
              "<IPython.core.display.HTML object>"
            ]
          },
          "metadata": {},
          "output_type": "display_data"
        },
        {
          "data": {
            "text/html": [
              " View project at <a href='https://wandb.ai/msds_498_claims_modeling/claims_modeling' target=\"_blank\">https://wandb.ai/msds_498_claims_modeling/claims_modeling</a>"
            ],
            "text/plain": [
              "<IPython.core.display.HTML object>"
            ]
          },
          "metadata": {},
          "output_type": "display_data"
        },
        {
          "data": {
            "text/html": [
              " View sweep at <a href='https://wandb.ai/msds_498_claims_modeling/claims_modeling/sweeps/koeqejgd' target=\"_blank\">https://wandb.ai/msds_498_claims_modeling/claims_modeling/sweeps/koeqejgd</a>"
            ],
            "text/plain": [
              "<IPython.core.display.HTML object>"
            ]
          },
          "metadata": {},
          "output_type": "display_data"
        },
        {
          "data": {
            "text/html": [
              " View run at <a href='https://wandb.ai/msds_498_claims_modeling/claims_modeling/runs/oyc5fksr' target=\"_blank\">https://wandb.ai/msds_498_claims_modeling/claims_modeling/runs/oyc5fksr</a>"
            ],
            "text/plain": [
              "<IPython.core.display.HTML object>"
            ]
          },
          "metadata": {},
          "output_type": "display_data"
        },
        {
          "name": "stderr",
          "output_type": "stream",
          "text": [
            "\u001b[34m\u001b[1mwandb\u001b[0m: \u001b[33mWARNING\u001b[0m When using several event log directories, please call `wandb.tensorboard.patch(root_logdir=\"...\")` before `wandb.init`\n"
          ]
        },
        {
          "name": "stdout",
          "output_type": "stream",
          "text": [
            "Epoch 1/25\n",
            "859/861 [============================>.] - ETA: 0s - loss: 0.3733"
          ]
        },
        {
          "name": "stderr",
          "output_type": "stream",
          "text": [
            "\u001b[34m\u001b[1mwandb\u001b[0m: \u001b[33mWARNING\u001b[0m When using several event log directories, please call `wandb.tensorboard.patch(root_logdir=\"...\")` before `wandb.init`\n"
          ]
        },
        {
          "name": "stdout",
          "output_type": "stream",
          "text": [
            "\b\b\b\b\b\b\b\b\b\b\b\b\b\b\b\b\b\b\b\b\b\b\b\b\b\b\b\b\b\b\b\b\b\b\b\b\b\b\b\b\b\b\b\b\b\b\b\b\b\b\b\b\b\b\b\b\b\b\b\b\b\b\b\b\b\r861/861 [==============================] - 12s 8ms/step - loss: 0.3732 - val_loss: 0.2819\n",
            "Epoch 2/25\n",
            "861/861 [==============================] - 8s 8ms/step - loss: 0.2900 - val_loss: 0.2793\n",
            "Epoch 3/25\n",
            "861/861 [==============================] - 8s 8ms/step - loss: 0.2833 - val_loss: 0.2794\n",
            "Epoch 4/25\n",
            "268/861 [========>.....................] - ETA: 3s - loss: 0.2773"
          ]
        }
      ],
      "source": [
        "# main(config = {\n",
        "#         \"epochs\": 100,\n",
        "#         \"learning_rate\": 1e-3,\n",
        "#         \"weight_decay\": 4e-3,\n",
        "#         \"relu_leakiness\": 0.01,\n",
        "#         \"driver_dense\": 4,\n",
        "#         \"veh_dense\": 5,\n",
        "#         \"claim_dense\": 10,\n",
        "#         \"dense_res_block_width\": 25,\n",
        "#         \"dropout\": 0.1,\n",
        "#         \"batch_size\": 1024\n",
        "#   })\n",
        "\n",
        "wandb.agent(entity = \"msds_498_claims_modeling\", project = \"claims_modeling\", sweep_id=\"koeqejgd\", function=main, count = 15)"
      ]
    }
  ],
  "metadata": {
    "accelerator": "GPU",
    "colab": {
      "machine_shape": "hm",
      "provenance": []
    },
    "gpuClass": "standard",
    "kernelspec": {
      "display_name": "Python 3",
      "name": "python3"
    },
    "language_info": {
      "name": "python"
    },
    "widgets": {
      "application/vnd.jupyter.widget-state+json": {
        "011e58f43b7c44acb8abd76a91492192": {
          "model_module": "@jupyter-widgets/controls",
          "model_module_version": "1.5.0",
          "model_name": "DescriptionStyleModel",
          "state": {
            "_model_module": "@jupyter-widgets/controls",
            "_model_module_version": "1.5.0",
            "_model_name": "DescriptionStyleModel",
            "_view_count": null,
            "_view_module": "@jupyter-widgets/base",
            "_view_module_version": "1.2.0",
            "_view_name": "StyleView",
            "description_width": ""
          }
        },
        "311caea2e0e44fb4975397d22055d1ef": {
          "model_module": "@jupyter-widgets/base",
          "model_module_version": "1.2.0",
          "model_name": "LayoutModel",
          "state": {
            "_model_module": "@jupyter-widgets/base",
            "_model_module_version": "1.2.0",
            "_model_name": "LayoutModel",
            "_view_count": null,
            "_view_module": "@jupyter-widgets/base",
            "_view_module_version": "1.2.0",
            "_view_name": "LayoutView",
            "align_content": null,
            "align_items": null,
            "align_self": null,
            "border": null,
            "bottom": null,
            "display": null,
            "flex": null,
            "flex_flow": null,
            "grid_area": null,
            "grid_auto_columns": null,
            "grid_auto_flow": null,
            "grid_auto_rows": null,
            "grid_column": null,
            "grid_gap": null,
            "grid_row": null,
            "grid_template_areas": null,
            "grid_template_columns": null,
            "grid_template_rows": null,
            "height": null,
            "justify_content": null,
            "justify_items": null,
            "left": null,
            "margin": null,
            "max_height": null,
            "max_width": null,
            "min_height": null,
            "min_width": null,
            "object_fit": null,
            "object_position": null,
            "order": null,
            "overflow": null,
            "overflow_x": null,
            "overflow_y": null,
            "padding": null,
            "right": null,
            "top": null,
            "visibility": null,
            "width": null
          }
        },
        "3fd8b737ef984a9cb15a5e73d3e4644a": {
          "model_module": "@jupyter-widgets/controls",
          "model_module_version": "1.5.0",
          "model_name": "VBoxModel",
          "state": {
            "_dom_classes": [],
            "_model_module": "@jupyter-widgets/controls",
            "_model_module_version": "1.5.0",
            "_model_name": "VBoxModel",
            "_view_count": null,
            "_view_module": "@jupyter-widgets/controls",
            "_view_module_version": "1.5.0",
            "_view_name": "VBoxView",
            "box_style": "",
            "children": [
              "IPY_MODEL_ba61344d1b9448f185ba31386a2e88f9",
              "IPY_MODEL_7614c9c17d0a408bbdd33205d481f7df"
            ],
            "layout": "IPY_MODEL_701c083262274110bb09bddbdbd8af88"
          }
        },
        "5e82fd03379342dcb579b0556d5e0164": {
          "model_module": "@jupyter-widgets/base",
          "model_module_version": "1.2.0",
          "model_name": "LayoutModel",
          "state": {
            "_model_module": "@jupyter-widgets/base",
            "_model_module_version": "1.2.0",
            "_model_name": "LayoutModel",
            "_view_count": null,
            "_view_module": "@jupyter-widgets/base",
            "_view_module_version": "1.2.0",
            "_view_name": "LayoutView",
            "align_content": null,
            "align_items": null,
            "align_self": null,
            "border": null,
            "bottom": null,
            "display": null,
            "flex": null,
            "flex_flow": null,
            "grid_area": null,
            "grid_auto_columns": null,
            "grid_auto_flow": null,
            "grid_auto_rows": null,
            "grid_column": null,
            "grid_gap": null,
            "grid_row": null,
            "grid_template_areas": null,
            "grid_template_columns": null,
            "grid_template_rows": null,
            "height": null,
            "justify_content": null,
            "justify_items": null,
            "left": null,
            "margin": null,
            "max_height": null,
            "max_width": null,
            "min_height": null,
            "min_width": null,
            "object_fit": null,
            "object_position": null,
            "order": null,
            "overflow": null,
            "overflow_x": null,
            "overflow_y": null,
            "padding": null,
            "right": null,
            "top": null,
            "visibility": null,
            "width": null
          }
        },
        "701c083262274110bb09bddbdbd8af88": {
          "model_module": "@jupyter-widgets/base",
          "model_module_version": "1.2.0",
          "model_name": "LayoutModel",
          "state": {
            "_model_module": "@jupyter-widgets/base",
            "_model_module_version": "1.2.0",
            "_model_name": "LayoutModel",
            "_view_count": null,
            "_view_module": "@jupyter-widgets/base",
            "_view_module_version": "1.2.0",
            "_view_name": "LayoutView",
            "align_content": null,
            "align_items": null,
            "align_self": null,
            "border": null,
            "bottom": null,
            "display": null,
            "flex": null,
            "flex_flow": null,
            "grid_area": null,
            "grid_auto_columns": null,
            "grid_auto_flow": null,
            "grid_auto_rows": null,
            "grid_column": null,
            "grid_gap": null,
            "grid_row": null,
            "grid_template_areas": null,
            "grid_template_columns": null,
            "grid_template_rows": null,
            "height": null,
            "justify_content": null,
            "justify_items": null,
            "left": null,
            "margin": null,
            "max_height": null,
            "max_width": null,
            "min_height": null,
            "min_width": null,
            "object_fit": null,
            "object_position": null,
            "order": null,
            "overflow": null,
            "overflow_x": null,
            "overflow_y": null,
            "padding": null,
            "right": null,
            "top": null,
            "visibility": null,
            "width": null
          }
        },
        "7614c9c17d0a408bbdd33205d481f7df": {
          "model_module": "@jupyter-widgets/controls",
          "model_module_version": "1.5.0",
          "model_name": "FloatProgressModel",
          "state": {
            "_dom_classes": [],
            "_model_module": "@jupyter-widgets/controls",
            "_model_module_version": "1.5.0",
            "_model_name": "FloatProgressModel",
            "_view_count": null,
            "_view_module": "@jupyter-widgets/controls",
            "_view_module_version": "1.5.0",
            "_view_name": "ProgressView",
            "bar_style": "",
            "description": "",
            "description_tooltip": null,
            "layout": "IPY_MODEL_311caea2e0e44fb4975397d22055d1ef",
            "max": 1,
            "min": 0,
            "orientation": "horizontal",
            "style": "IPY_MODEL_b27185d17ee74e1d9bb8f8fa3643d22a",
            "value": 1
          }
        },
        "b27185d17ee74e1d9bb8f8fa3643d22a": {
          "model_module": "@jupyter-widgets/controls",
          "model_module_version": "1.5.0",
          "model_name": "ProgressStyleModel",
          "state": {
            "_model_module": "@jupyter-widgets/controls",
            "_model_module_version": "1.5.0",
            "_model_name": "ProgressStyleModel",
            "_view_count": null,
            "_view_module": "@jupyter-widgets/base",
            "_view_module_version": "1.2.0",
            "_view_name": "StyleView",
            "bar_color": null,
            "description_width": ""
          }
        },
        "ba61344d1b9448f185ba31386a2e88f9": {
          "model_module": "@jupyter-widgets/controls",
          "model_module_version": "1.5.0",
          "model_name": "LabelModel",
          "state": {
            "_dom_classes": [],
            "_model_module": "@jupyter-widgets/controls",
            "_model_module_version": "1.5.0",
            "_model_name": "LabelModel",
            "_view_count": null,
            "_view_module": "@jupyter-widgets/controls",
            "_view_module_version": "1.5.0",
            "_view_name": "LabelView",
            "description": "",
            "description_tooltip": null,
            "layout": "IPY_MODEL_5e82fd03379342dcb579b0556d5e0164",
            "placeholder": "​",
            "style": "IPY_MODEL_011e58f43b7c44acb8abd76a91492192",
            "value": "0.009 MB of 0.009 MB uploaded (0.000 MB deduped)\r"
          }
        }
      }
    }
  },
  "nbformat": 4,
  "nbformat_minor": 0
}
