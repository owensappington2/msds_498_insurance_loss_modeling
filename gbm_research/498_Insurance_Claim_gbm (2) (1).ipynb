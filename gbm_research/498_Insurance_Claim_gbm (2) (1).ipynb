{
  "cells": [
    {
      "cell_type": "markdown",
      "metadata": {
        "id": "xIDgDqk0LIHC"
      },
      "source": [
        "# MSDS 498 Insurance Claims Model - GBM\n"
      ]
    },
    {
      "cell_type": "code",
      "source": [
        "!pip install wandb"
      ],
      "metadata": {
        "colab": {
          "base_uri": "https://localhost:8080/"
        },
        "id": "xADZDspdLMnG",
        "outputId": "111d52b4-68b8-4347-adb1-ff7193264f1b"
      },
      "execution_count": 1,
      "outputs": [
        {
          "output_type": "stream",
          "name": "stdout",
          "text": [
            "Looking in indexes: https://pypi.org/simple, https://us-python.pkg.dev/colab-wheels/public/simple/\n",
            "Collecting wandb\n",
            "  Downloading wandb-0.15.2-py3-none-any.whl (2.0 MB)\n",
            "\u001b[2K     \u001b[90m━━━━━━━━━━━━━━━━━━━━━━━━━━━━━━━━━━━━━━━━\u001b[0m \u001b[32m2.0/2.0 MB\u001b[0m \u001b[31m16.3 MB/s\u001b[0m eta \u001b[36m0:00:00\u001b[0m\n",
            "\u001b[?25hRequirement already satisfied: Click!=8.0.0,>=7.0 in /usr/local/lib/python3.10/dist-packages (from wandb) (8.1.3)\n",
            "Collecting GitPython!=3.1.29,>=1.0.0 (from wandb)\n",
            "  Downloading GitPython-3.1.31-py3-none-any.whl (184 kB)\n",
            "\u001b[2K     \u001b[90m━━━━━━━━━━━━━━━━━━━━━━━━━━━━━━━━━━━━━━━\u001b[0m \u001b[32m184.3/184.3 kB\u001b[0m \u001b[31m4.6 MB/s\u001b[0m eta \u001b[36m0:00:00\u001b[0m\n",
            "\u001b[?25hRequirement already satisfied: requests<3,>=2.0.0 in /usr/local/lib/python3.10/dist-packages (from wandb) (2.27.1)\n",
            "Requirement already satisfied: psutil>=5.0.0 in /usr/local/lib/python3.10/dist-packages (from wandb) (5.9.5)\n",
            "Collecting sentry-sdk>=1.0.0 (from wandb)\n",
            "  Downloading sentry_sdk-1.22.2-py2.py3-none-any.whl (203 kB)\n",
            "\u001b[2K     \u001b[90m━━━━━━━━━━━━━━━━━━━━━━━━━━━━━━━━━━━━━━━\u001b[0m \u001b[32m203.3/203.3 kB\u001b[0m \u001b[31m6.9 MB/s\u001b[0m eta \u001b[36m0:00:00\u001b[0m\n",
            "\u001b[?25hCollecting docker-pycreds>=0.4.0 (from wandb)\n",
            "  Downloading docker_pycreds-0.4.0-py2.py3-none-any.whl (9.0 kB)\n",
            "Requirement already satisfied: PyYAML in /usr/local/lib/python3.10/dist-packages (from wandb) (6.0)\n",
            "Collecting pathtools (from wandb)\n",
            "  Downloading pathtools-0.1.2.tar.gz (11 kB)\n",
            "  Preparing metadata (setup.py) ... \u001b[?25l\u001b[?25hdone\n",
            "Collecting setproctitle (from wandb)\n",
            "  Downloading setproctitle-1.3.2-cp310-cp310-manylinux_2_5_x86_64.manylinux1_x86_64.manylinux_2_17_x86_64.manylinux2014_x86_64.whl (30 kB)\n",
            "Requirement already satisfied: setuptools in /usr/local/lib/python3.10/dist-packages (from wandb) (67.7.2)\n",
            "Requirement already satisfied: appdirs>=1.4.3 in /usr/local/lib/python3.10/dist-packages (from wandb) (1.4.4)\n",
            "Requirement already satisfied: protobuf!=4.21.0,<5,>=3.19.0 in /usr/local/lib/python3.10/dist-packages (from wandb) (3.20.3)\n",
            "Requirement already satisfied: six>=1.4.0 in /usr/local/lib/python3.10/dist-packages (from docker-pycreds>=0.4.0->wandb) (1.16.0)\n",
            "Collecting gitdb<5,>=4.0.1 (from GitPython!=3.1.29,>=1.0.0->wandb)\n",
            "  Downloading gitdb-4.0.10-py3-none-any.whl (62 kB)\n",
            "\u001b[2K     \u001b[90m━━━━━━━━━━━━━━━━━━━━━━━━━━━━━━━━━━━━━━━━\u001b[0m \u001b[32m62.7/62.7 kB\u001b[0m \u001b[31m3.0 MB/s\u001b[0m eta \u001b[36m0:00:00\u001b[0m\n",
            "\u001b[?25hRequirement already satisfied: urllib3<1.27,>=1.21.1 in /usr/local/lib/python3.10/dist-packages (from requests<3,>=2.0.0->wandb) (1.26.15)\n",
            "Requirement already satisfied: certifi>=2017.4.17 in /usr/local/lib/python3.10/dist-packages (from requests<3,>=2.0.0->wandb) (2022.12.7)\n",
            "Requirement already satisfied: charset-normalizer~=2.0.0 in /usr/local/lib/python3.10/dist-packages (from requests<3,>=2.0.0->wandb) (2.0.12)\n",
            "Requirement already satisfied: idna<4,>=2.5 in /usr/local/lib/python3.10/dist-packages (from requests<3,>=2.0.0->wandb) (3.4)\n",
            "Collecting smmap<6,>=3.0.1 (from gitdb<5,>=4.0.1->GitPython!=3.1.29,>=1.0.0->wandb)\n",
            "  Downloading smmap-5.0.0-py3-none-any.whl (24 kB)\n",
            "Building wheels for collected packages: pathtools\n",
            "  Building wheel for pathtools (setup.py) ... \u001b[?25l\u001b[?25hdone\n",
            "  Created wheel for pathtools: filename=pathtools-0.1.2-py3-none-any.whl size=8791 sha256=4cf9c170afadb89f8a3f9e2ac5aa67c4916de1c0d55c7fc0e95e85c9646ca52a\n",
            "  Stored in directory: /root/.cache/pip/wheels/e7/f3/22/152153d6eb222ee7a56ff8617d80ee5207207a8c00a7aab794\n",
            "Successfully built pathtools\n",
            "Installing collected packages: pathtools, smmap, setproctitle, sentry-sdk, docker-pycreds, gitdb, GitPython, wandb\n",
            "Successfully installed GitPython-3.1.31 docker-pycreds-0.4.0 gitdb-4.0.10 pathtools-0.1.2 sentry-sdk-1.22.2 setproctitle-1.3.2 smmap-5.0.0 wandb-0.15.2\n"
          ]
        }
      ]
    },
    {
      "cell_type": "code",
      "source": [
        "import wandb\n",
        "wandb.login(relogin = True)"
      ],
      "metadata": {
        "colab": {
          "base_uri": "https://localhost:8080/",
          "height": 71
        },
        "id": "KOowYKkCLMe5",
        "outputId": "76bde88d-53f8-454a-f2ce-706d4435cde4"
      },
      "execution_count": 2,
      "outputs": [
        {
          "output_type": "display_data",
          "data": {
            "text/plain": [
              "<IPython.core.display.Javascript object>"
            ],
            "application/javascript": [
              "\n",
              "        window._wandbApiKey = new Promise((resolve, reject) => {\n",
              "            function loadScript(url) {\n",
              "            return new Promise(function(resolve, reject) {\n",
              "                let newScript = document.createElement(\"script\");\n",
              "                newScript.onerror = reject;\n",
              "                newScript.onload = resolve;\n",
              "                document.body.appendChild(newScript);\n",
              "                newScript.src = url;\n",
              "            });\n",
              "            }\n",
              "            loadScript(\"https://cdn.jsdelivr.net/npm/postmate/build/postmate.min.js\").then(() => {\n",
              "            const iframe = document.createElement('iframe')\n",
              "            iframe.style.cssText = \"width:0;height:0;border:none\"\n",
              "            document.body.appendChild(iframe)\n",
              "            const handshake = new Postmate({\n",
              "                container: iframe,\n",
              "                url: 'https://wandb.ai/authorize'\n",
              "            });\n",
              "            const timeout = setTimeout(() => reject(\"Couldn't auto authenticate\"), 5000)\n",
              "            handshake.then(function(child) {\n",
              "                child.on('authorize', data => {\n",
              "                    clearTimeout(timeout)\n",
              "                    resolve(data)\n",
              "                });\n",
              "            });\n",
              "            })\n",
              "        });\n",
              "    "
            ]
          },
          "metadata": {}
        },
        {
          "output_type": "stream",
          "name": "stderr",
          "text": [
            "\u001b[34m\u001b[1mwandb\u001b[0m: Appending key for api.wandb.ai to your netrc file: /root/.netrc\n"
          ]
        },
        {
          "output_type": "execute_result",
          "data": {
            "text/plain": [
              "True"
            ]
          },
          "metadata": {},
          "execution_count": 2
        }
      ]
    },
    {
      "cell_type": "code",
      "source": [
        "run = wandb.init()\n",
        "datas = run.use_artifact('msds_498_claims_modeling/claims_modeling/sythetic_data:v5')\n",
        "directory = datas.download(root = 'datasets')"
      ],
      "metadata": {
        "colab": {
          "base_uri": "https://localhost:8080/",
          "height": 178
        },
        "id": "mSAAC46HLMV1",
        "outputId": "e1bfd11c-1b02-421f-9665-7cb54cef2d7b"
      },
      "execution_count": 3,
      "outputs": [
        {
          "output_type": "stream",
          "name": "stderr",
          "text": [
            "\u001b[34m\u001b[1mwandb\u001b[0m: Currently logged in as: \u001b[33mdanielpallotta2023\u001b[0m (\u001b[33mmsds_498_claims_modeling\u001b[0m). Use \u001b[1m`wandb login --relogin`\u001b[0m to force relogin\n"
          ]
        },
        {
          "output_type": "display_data",
          "data": {
            "text/plain": [
              "<IPython.core.display.HTML object>"
            ],
            "text/html": [
              "Tracking run with wandb version 0.15.2"
            ]
          },
          "metadata": {}
        },
        {
          "output_type": "display_data",
          "data": {
            "text/plain": [
              "<IPython.core.display.HTML object>"
            ],
            "text/html": [
              "Run data is saved locally in <code>/content/wandb/run-20230510_010204-blkg0kdt</code>"
            ]
          },
          "metadata": {}
        },
        {
          "output_type": "display_data",
          "data": {
            "text/plain": [
              "<IPython.core.display.HTML object>"
            ],
            "text/html": [
              "Syncing run <strong><a href='https://wandb.ai/msds_498_claims_modeling/uncategorized/runs/blkg0kdt' target=\"_blank\">efficient-wildflower-32</a></strong> to <a href='https://wandb.ai/msds_498_claims_modeling/uncategorized' target=\"_blank\">Weights & Biases</a> (<a href='https://wandb.me/run' target=\"_blank\">docs</a>)<br/>"
            ]
          },
          "metadata": {}
        },
        {
          "output_type": "display_data",
          "data": {
            "text/plain": [
              "<IPython.core.display.HTML object>"
            ],
            "text/html": [
              " View project at <a href='https://wandb.ai/msds_498_claims_modeling/uncategorized' target=\"_blank\">https://wandb.ai/msds_498_claims_modeling/uncategorized</a>"
            ]
          },
          "metadata": {}
        },
        {
          "output_type": "display_data",
          "data": {
            "text/plain": [
              "<IPython.core.display.HTML object>"
            ],
            "text/html": [
              " View run at <a href='https://wandb.ai/msds_498_claims_modeling/uncategorized/runs/blkg0kdt' target=\"_blank\">https://wandb.ai/msds_498_claims_modeling/uncategorized/runs/blkg0kdt</a>"
            ]
          },
          "metadata": {}
        },
        {
          "output_type": "stream",
          "name": "stderr",
          "text": [
            "\u001b[34m\u001b[1mwandb\u001b[0m: Downloading large artifact sythetic_data:v5, 153.76MB. 3 files... \n",
            "\u001b[34m\u001b[1mwandb\u001b[0m:   3 of 3 files downloaded.  \n",
            "Done. 0:0:3.0\n"
          ]
        }
      ]
    },
    {
      "cell_type": "code",
      "source": [
        "!pip install pyarrow\n",
        "!pip install pandas\n",
        "!pip install fastparquet\n",
        "!pip install matplotlib"
      ],
      "metadata": {
        "colab": {
          "base_uri": "https://localhost:8080/"
        },
        "id": "Xuwd5tLJL_Dr",
        "outputId": "ab84ee63-f4d2-42b2-e4dc-f626069ee91b"
      },
      "execution_count": 4,
      "outputs": [
        {
          "output_type": "stream",
          "name": "stdout",
          "text": [
            "Looking in indexes: https://pypi.org/simple, https://us-python.pkg.dev/colab-wheels/public/simple/\n",
            "Requirement already satisfied: pyarrow in /usr/local/lib/python3.10/dist-packages (9.0.0)\n",
            "Requirement already satisfied: numpy>=1.16.6 in /usr/local/lib/python3.10/dist-packages (from pyarrow) (1.22.4)\n",
            "Looking in indexes: https://pypi.org/simple, https://us-python.pkg.dev/colab-wheels/public/simple/\n",
            "Requirement already satisfied: pandas in /usr/local/lib/python3.10/dist-packages (1.5.3)\n",
            "Requirement already satisfied: python-dateutil>=2.8.1 in /usr/local/lib/python3.10/dist-packages (from pandas) (2.8.2)\n",
            "Requirement already satisfied: pytz>=2020.1 in /usr/local/lib/python3.10/dist-packages (from pandas) (2022.7.1)\n",
            "Requirement already satisfied: numpy>=1.21.0 in /usr/local/lib/python3.10/dist-packages (from pandas) (1.22.4)\n",
            "Requirement already satisfied: six>=1.5 in /usr/local/lib/python3.10/dist-packages (from python-dateutil>=2.8.1->pandas) (1.16.0)\n",
            "Looking in indexes: https://pypi.org/simple, https://us-python.pkg.dev/colab-wheels/public/simple/\n",
            "Collecting fastparquet\n",
            "  Downloading fastparquet-2023.4.0-cp310-cp310-manylinux_2_17_x86_64.manylinux2014_x86_64.whl (1.5 MB)\n",
            "\u001b[2K     \u001b[90m━━━━━━━━━━━━━━━━━━━━━━━━━━━━━━━━━━━━━━━━\u001b[0m \u001b[32m1.5/1.5 MB\u001b[0m \u001b[31m18.3 MB/s\u001b[0m eta \u001b[36m0:00:00\u001b[0m\n",
            "\u001b[?25hRequirement already satisfied: pandas>=1.5.0 in /usr/local/lib/python3.10/dist-packages (from fastparquet) (1.5.3)\n",
            "Requirement already satisfied: numpy>=1.20.3 in /usr/local/lib/python3.10/dist-packages (from fastparquet) (1.22.4)\n",
            "Collecting cramjam>=2.3 (from fastparquet)\n",
            "  Downloading cramjam-2.6.2-cp310-cp310-manylinux_2_17_x86_64.manylinux2014_x86_64.whl (2.0 MB)\n",
            "\u001b[2K     \u001b[90m━━━━━━━━━━━━━━━━━━━━━━━━━━━━━━━━━━━━━━━━\u001b[0m \u001b[32m2.0/2.0 MB\u001b[0m \u001b[31m25.8 MB/s\u001b[0m eta \u001b[36m0:00:00\u001b[0m\n",
            "\u001b[?25hRequirement already satisfied: fsspec in /usr/local/lib/python3.10/dist-packages (from fastparquet) (2023.4.0)\n",
            "Requirement already satisfied: packaging in /usr/local/lib/python3.10/dist-packages (from fastparquet) (23.1)\n",
            "Requirement already satisfied: python-dateutil>=2.8.1 in /usr/local/lib/python3.10/dist-packages (from pandas>=1.5.0->fastparquet) (2.8.2)\n",
            "Requirement already satisfied: pytz>=2020.1 in /usr/local/lib/python3.10/dist-packages (from pandas>=1.5.0->fastparquet) (2022.7.1)\n",
            "Requirement already satisfied: six>=1.5 in /usr/local/lib/python3.10/dist-packages (from python-dateutil>=2.8.1->pandas>=1.5.0->fastparquet) (1.16.0)\n",
            "Installing collected packages: cramjam, fastparquet\n",
            "Successfully installed cramjam-2.6.2 fastparquet-2023.4.0\n",
            "Looking in indexes: https://pypi.org/simple, https://us-python.pkg.dev/colab-wheels/public/simple/\n",
            "Requirement already satisfied: matplotlib in /usr/local/lib/python3.10/dist-packages (3.7.1)\n",
            "Requirement already satisfied: contourpy>=1.0.1 in /usr/local/lib/python3.10/dist-packages (from matplotlib) (1.0.7)\n",
            "Requirement already satisfied: cycler>=0.10 in /usr/local/lib/python3.10/dist-packages (from matplotlib) (0.11.0)\n",
            "Requirement already satisfied: fonttools>=4.22.0 in /usr/local/lib/python3.10/dist-packages (from matplotlib) (4.39.3)\n",
            "Requirement already satisfied: kiwisolver>=1.0.1 in /usr/local/lib/python3.10/dist-packages (from matplotlib) (1.4.4)\n",
            "Requirement already satisfied: numpy>=1.20 in /usr/local/lib/python3.10/dist-packages (from matplotlib) (1.22.4)\n",
            "Requirement already satisfied: packaging>=20.0 in /usr/local/lib/python3.10/dist-packages (from matplotlib) (23.1)\n",
            "Requirement already satisfied: pillow>=6.2.0 in /usr/local/lib/python3.10/dist-packages (from matplotlib) (8.4.0)\n",
            "Requirement already satisfied: pyparsing>=2.3.1 in /usr/local/lib/python3.10/dist-packages (from matplotlib) (3.0.9)\n",
            "Requirement already satisfied: python-dateutil>=2.7 in /usr/local/lib/python3.10/dist-packages (from matplotlib) (2.8.2)\n",
            "Requirement already satisfied: six>=1.5 in /usr/local/lib/python3.10/dist-packages (from python-dateutil>=2.7->matplotlib) (1.16.0)\n"
          ]
        }
      ]
    },
    {
      "cell_type": "code",
      "source": [
        "import pyarrow\n",
        "import fastparquet\n",
        "from IPython.display import display"
      ],
      "metadata": {
        "id": "_5ZmT_p9MDOp"
      },
      "execution_count": null,
      "outputs": []
    },
    {
      "cell_type": "code",
      "execution_count": 72,
      "metadata": {
        "id": "_MsRkP7ULIHF"
      },
      "outputs": [],
      "source": [
        "import numpy as np \n",
        "import pandas as pd \n",
        "\n",
        "from sklearn.model_selection import train_test_split\n",
        "from sklearn.ensemble import GradientBoostingClassifier\n",
        "from sklearn.model_selection import GridSearchCV\n",
        "from sklearn.metrics import roc_auc_score\n",
        "\n",
        "import matplotlib.pylab as plt\n",
        "\n",
        "import pyarrow\n",
        "import fastparquet\n",
        "from IPython.display import display"
      ]
    },
    {
      "cell_type": "markdown",
      "metadata": {
        "id": "tXkiuFgPLIHI"
      },
      "source": [
        "## Step1: Read Training Data from CSV\n",
        "\n",
        "Then the dataframe is split into train and test datasets using sklean's `train_test_split` function"
      ]
    },
    {
      "cell_type": "code",
      "execution_count": 73,
      "metadata": {
        "colab": {
          "base_uri": "https://localhost:8080/"
        },
        "id": "joK8b1KfLIHI",
        "outputId": "d1c89d44-2920-470b-d174-60f4be18c60a"
      },
      "outputs": [
        {
          "output_type": "stream",
          "name": "stdout",
          "text": [
            "(220383, 26)\n",
            "(63652, 26)\n"
          ]
        }
      ],
      "source": [
        "targets = ['vehicle_claim_cnt_pd_0']\n",
        "vars = ['vehicle_age', 'annual_mileage', 'vehicle_type', 'max_driver_age', 'min_driver_age',\\\n",
        "        'mean_driver_age', 'min_driver_tenure', 'youthful_driver_count', 'credit_score', 'garaging_location',\\\n",
        "        'household_tenure','multiline_houses', 'multiline_personal_article_policy', \\\n",
        "        'multiline_personal_liability_umbrella', 'multiline_rental', 'vehicle_count','vehicle_claim_time_since_all', \\\n",
        "        'driver_count','coverage_bi','coverage_coll','coverage_comp','coverage_ers','coverage_mpc','coverage_pd','coverage_ubi'\n",
        "      ]\n",
        "\n",
        "df_train = pd.read_parquet('./datasets/split=train')\n",
        "df_test = pd.read_parquet('./datasets/split=test')\n",
        "columns_to_keep = targets + vars\n",
        "df_train = df_train[columns_to_keep]\n",
        "df_test = df_test[columns_to_keep]\n",
        "print(df_train.shape)\n",
        "print(df_test.shape)"
      ]
    },
    {
      "cell_type": "code",
      "source": [
        "df_train = df_train.astype({\n",
        "    'coverage_bi': int,\n",
        "    'coverage_coll': int,\n",
        "    'coverage_comp': int,\n",
        "    'coverage_ers': int,\n",
        "    'coverage_mpc': int,\n",
        "    'coverage_pd': int,\n",
        "    'coverage_ubi': int\n",
        "})\n",
        "\n",
        "df_test = df_test.astype({\n",
        "    'coverage_bi': int,\n",
        "    'coverage_coll': int,\n",
        "    'coverage_comp': int,\n",
        "    'coverage_ers': int,\n",
        "    'coverage_mpc': int,\n",
        "    'coverage_pd': int,\n",
        "    'coverage_ubi': int\n",
        "})"
      ],
      "metadata": {
        "id": "Aopy1g7aORM4"
      },
      "execution_count": 74,
      "outputs": []
    },
    {
      "cell_type": "code",
      "source": [
        "def find_nan_cols(df):\n",
        "    null = df.isnull().sum()\n",
        "    missing_df = pd.concat([null], axis=1, keys=['nancount'])\n",
        "\n",
        "    return missing_df[(missing_df.nancount > 0)]"
      ],
      "metadata": {
        "id": "6ZcN9FWYOeFW"
      },
      "execution_count": 75,
      "outputs": []
    },
    {
      "cell_type": "code",
      "source": [
        "train_null = find_nan_cols(df_train)\n",
        "test_null = find_nan_cols(df_test)\n",
        "print('missing value in train_df -----------------------------')\n",
        "print(train_null)\n",
        "print('missing value in test_df ------------------------------')\n",
        "print(test_null)"
      ],
      "metadata": {
        "colab": {
          "base_uri": "https://localhost:8080/"
        },
        "id": "vQadXJQgOgop",
        "outputId": "264041a7-bac8-446a-9c04-e37a55f54e01"
      },
      "execution_count": 76,
      "outputs": [
        {
          "output_type": "stream",
          "name": "stdout",
          "text": [
            "missing value in train_df -----------------------------\n",
            "                              nancount\n",
            "vehicle_claim_time_since_all    108701\n",
            "missing value in test_df ------------------------------\n",
            "                              nancount\n",
            "vehicle_claim_time_since_all     31183\n"
          ]
        }
      ]
    },
    {
      "cell_type": "code",
      "source": [
        "df_train = df_train.fillna(method='pad')\n",
        "df_test = df_test.fillna(method='pad')\n",
        "print(df_train.isnull().sum().sum())\n",
        "print(df_test.isnull().sum().sum())"
      ],
      "metadata": {
        "colab": {
          "base_uri": "https://localhost:8080/"
        },
        "id": "axL9i5klO1rd",
        "outputId": "2e76e708-bdc7-4874-f05f-f1bacd20fb31"
      },
      "execution_count": 77,
      "outputs": [
        {
          "output_type": "stream",
          "name": "stdout",
          "text": [
            "1\n",
            "1\n"
          ]
        }
      ]
    },
    {
      "cell_type": "code",
      "source": [
        "train_null = find_nan_cols(df_train)\n",
        "test_null = find_nan_cols(df_test)\n",
        "print('🚩 missing value in df_train -----------------------------')\n",
        "print(train_null)\n",
        "print('🚩 missing value in df_test ------------------------------')\n",
        "print(test_null)"
      ],
      "metadata": {
        "colab": {
          "base_uri": "https://localhost:8080/"
        },
        "id": "uL7Tmzz-PrjB",
        "outputId": "716fcc9d-53c3-4f98-cb5f-c2df83840df0"
      },
      "execution_count": 78,
      "outputs": [
        {
          "output_type": "stream",
          "name": "stdout",
          "text": [
            "🚩 missing value in df_train -----------------------------\n",
            "                              nancount\n",
            "vehicle_claim_time_since_all         1\n",
            "🚩 missing value in df_test ------------------------------\n",
            "                              nancount\n",
            "vehicle_claim_time_since_all         1\n"
          ]
        }
      ]
    },
    {
      "cell_type": "code",
      "source": [
        "df_train.dropna(inplace=True)\n",
        "df_test.dropna(inplace=True)"
      ],
      "metadata": {
        "id": "Ii0jbiujPznM"
      },
      "execution_count": 79,
      "outputs": []
    },
    {
      "cell_type": "code",
      "source": [
        "import statsmodels.api as sm\n",
        "\n",
        "print('origint_df_train.shape()', df_train.shape)\n",
        "df_train_ohe = pd.get_dummies(df_train)\n",
        "print('df_train_ohe.shape()', df_train_ohe.shape)\n",
        "df_train_ohe.head()\n",
        "\n",
        "print('origint_df_test.shape()', df_test.shape)\n",
        "df_test_ohe = pd.get_dummies(df_test)\n",
        "print('df_test_ohe.shape()', df_test_ohe.shape)\n",
        "df_test_ohe.head()"
      ],
      "metadata": {
        "colab": {
          "base_uri": "https://localhost:8080/",
          "height": 390
        },
        "id": "lM9HRD2aP6IN",
        "outputId": "bba968ea-0dc0-4bc0-b121-b292e70e8c29"
      },
      "execution_count": 80,
      "outputs": [
        {
          "output_type": "stream",
          "name": "stdout",
          "text": [
            "origint_df_train.shape() (220382, 26)\n",
            "df_train_ohe.shape() (220382, 32)\n",
            "origint_df_test.shape() (63651, 26)\n",
            "df_test_ohe.shape() (63651, 32)\n"
          ]
        },
        {
          "output_type": "execute_result",
          "data": {
            "text/plain": [
              "   vehicle_claim_cnt_pd_0  vehicle_age  annual_mileage  max_driver_age  \\\n",
              "1                       0           12          9000.0              44   \n",
              "2                       1            9          9000.0              66   \n",
              "3                       0           14         14000.0              49   \n",
              "4                       0           13         12000.0              55   \n",
              "5                       0           27          9000.0              40   \n",
              "\n",
              "   min_driver_age  mean_driver_age  min_driver_tenure  youthful_driver_count  \\\n",
              "1              40        42.000000                  6                      0   \n",
              "2              62        64.000000                 18                      0   \n",
              "3              47        48.000000                 12                      0   \n",
              "4              17        41.333333                  2                      1   \n",
              "5              36        38.000000                 12                      0   \n",
              "\n",
              "   credit_score  household_tenure  ...  coverage_pd  coverage_ubi  \\\n",
              "1           748                 6  ...            1             1   \n",
              "2           544                18  ...            1             1   \n",
              "3           536                12  ...            1             1   \n",
              "4           571                12  ...            1             0   \n",
              "5           667                17  ...            1             0   \n",
              "\n",
              "   vehicle_type_pickup  vehicle_type_sedan  vehicle_type_sports car  \\\n",
              "1                    0                   0                        0   \n",
              "2                    0                   0                        0   \n",
              "3                    0                   1                        0   \n",
              "4                    0                   0                        0   \n",
              "5                    1                   0                        0   \n",
              "\n",
              "   vehicle_type_suv  vehicle_type_van  garaging_location_country  \\\n",
              "1                 0                 1                          1   \n",
              "2                 0                 1                          0   \n",
              "3                 0                 0                          0   \n",
              "4                 0                 1                          0   \n",
              "5                 0                 0                          0   \n",
              "\n",
              "   garaging_location_downtown  garaging_location_suburb  \n",
              "1                           0                         0  \n",
              "2                           1                         0  \n",
              "3                           0                         1  \n",
              "4                           0                         1  \n",
              "5                           1                         0  \n",
              "\n",
              "[5 rows x 32 columns]"
            ],
            "text/html": [
              "\n",
              "  <div id=\"df-25d2c1a1-98f8-4d70-a320-84539e38bd9a\">\n",
              "    <div class=\"colab-df-container\">\n",
              "      <div>\n",
              "<style scoped>\n",
              "    .dataframe tbody tr th:only-of-type {\n",
              "        vertical-align: middle;\n",
              "    }\n",
              "\n",
              "    .dataframe tbody tr th {\n",
              "        vertical-align: top;\n",
              "    }\n",
              "\n",
              "    .dataframe thead th {\n",
              "        text-align: right;\n",
              "    }\n",
              "</style>\n",
              "<table border=\"1\" class=\"dataframe\">\n",
              "  <thead>\n",
              "    <tr style=\"text-align: right;\">\n",
              "      <th></th>\n",
              "      <th>vehicle_claim_cnt_pd_0</th>\n",
              "      <th>vehicle_age</th>\n",
              "      <th>annual_mileage</th>\n",
              "      <th>max_driver_age</th>\n",
              "      <th>min_driver_age</th>\n",
              "      <th>mean_driver_age</th>\n",
              "      <th>min_driver_tenure</th>\n",
              "      <th>youthful_driver_count</th>\n",
              "      <th>credit_score</th>\n",
              "      <th>household_tenure</th>\n",
              "      <th>...</th>\n",
              "      <th>coverage_pd</th>\n",
              "      <th>coverage_ubi</th>\n",
              "      <th>vehicle_type_pickup</th>\n",
              "      <th>vehicle_type_sedan</th>\n",
              "      <th>vehicle_type_sports car</th>\n",
              "      <th>vehicle_type_suv</th>\n",
              "      <th>vehicle_type_van</th>\n",
              "      <th>garaging_location_country</th>\n",
              "      <th>garaging_location_downtown</th>\n",
              "      <th>garaging_location_suburb</th>\n",
              "    </tr>\n",
              "  </thead>\n",
              "  <tbody>\n",
              "    <tr>\n",
              "      <th>1</th>\n",
              "      <td>0</td>\n",
              "      <td>12</td>\n",
              "      <td>9000.0</td>\n",
              "      <td>44</td>\n",
              "      <td>40</td>\n",
              "      <td>42.000000</td>\n",
              "      <td>6</td>\n",
              "      <td>0</td>\n",
              "      <td>748</td>\n",
              "      <td>6</td>\n",
              "      <td>...</td>\n",
              "      <td>1</td>\n",
              "      <td>1</td>\n",
              "      <td>0</td>\n",
              "      <td>0</td>\n",
              "      <td>0</td>\n",
              "      <td>0</td>\n",
              "      <td>1</td>\n",
              "      <td>1</td>\n",
              "      <td>0</td>\n",
              "      <td>0</td>\n",
              "    </tr>\n",
              "    <tr>\n",
              "      <th>2</th>\n",
              "      <td>1</td>\n",
              "      <td>9</td>\n",
              "      <td>9000.0</td>\n",
              "      <td>66</td>\n",
              "      <td>62</td>\n",
              "      <td>64.000000</td>\n",
              "      <td>18</td>\n",
              "      <td>0</td>\n",
              "      <td>544</td>\n",
              "      <td>18</td>\n",
              "      <td>...</td>\n",
              "      <td>1</td>\n",
              "      <td>1</td>\n",
              "      <td>0</td>\n",
              "      <td>0</td>\n",
              "      <td>0</td>\n",
              "      <td>0</td>\n",
              "      <td>1</td>\n",
              "      <td>0</td>\n",
              "      <td>1</td>\n",
              "      <td>0</td>\n",
              "    </tr>\n",
              "    <tr>\n",
              "      <th>3</th>\n",
              "      <td>0</td>\n",
              "      <td>14</td>\n",
              "      <td>14000.0</td>\n",
              "      <td>49</td>\n",
              "      <td>47</td>\n",
              "      <td>48.000000</td>\n",
              "      <td>12</td>\n",
              "      <td>0</td>\n",
              "      <td>536</td>\n",
              "      <td>12</td>\n",
              "      <td>...</td>\n",
              "      <td>1</td>\n",
              "      <td>1</td>\n",
              "      <td>0</td>\n",
              "      <td>1</td>\n",
              "      <td>0</td>\n",
              "      <td>0</td>\n",
              "      <td>0</td>\n",
              "      <td>0</td>\n",
              "      <td>0</td>\n",
              "      <td>1</td>\n",
              "    </tr>\n",
              "    <tr>\n",
              "      <th>4</th>\n",
              "      <td>0</td>\n",
              "      <td>13</td>\n",
              "      <td>12000.0</td>\n",
              "      <td>55</td>\n",
              "      <td>17</td>\n",
              "      <td>41.333333</td>\n",
              "      <td>2</td>\n",
              "      <td>1</td>\n",
              "      <td>571</td>\n",
              "      <td>12</td>\n",
              "      <td>...</td>\n",
              "      <td>1</td>\n",
              "      <td>0</td>\n",
              "      <td>0</td>\n",
              "      <td>0</td>\n",
              "      <td>0</td>\n",
              "      <td>0</td>\n",
              "      <td>1</td>\n",
              "      <td>0</td>\n",
              "      <td>0</td>\n",
              "      <td>1</td>\n",
              "    </tr>\n",
              "    <tr>\n",
              "      <th>5</th>\n",
              "      <td>0</td>\n",
              "      <td>27</td>\n",
              "      <td>9000.0</td>\n",
              "      <td>40</td>\n",
              "      <td>36</td>\n",
              "      <td>38.000000</td>\n",
              "      <td>12</td>\n",
              "      <td>0</td>\n",
              "      <td>667</td>\n",
              "      <td>17</td>\n",
              "      <td>...</td>\n",
              "      <td>1</td>\n",
              "      <td>0</td>\n",
              "      <td>1</td>\n",
              "      <td>0</td>\n",
              "      <td>0</td>\n",
              "      <td>0</td>\n",
              "      <td>0</td>\n",
              "      <td>0</td>\n",
              "      <td>1</td>\n",
              "      <td>0</td>\n",
              "    </tr>\n",
              "  </tbody>\n",
              "</table>\n",
              "<p>5 rows × 32 columns</p>\n",
              "</div>\n",
              "      <button class=\"colab-df-convert\" onclick=\"convertToInteractive('df-25d2c1a1-98f8-4d70-a320-84539e38bd9a')\"\n",
              "              title=\"Convert this dataframe to an interactive table.\"\n",
              "              style=\"display:none;\">\n",
              "        \n",
              "  <svg xmlns=\"http://www.w3.org/2000/svg\" height=\"24px\"viewBox=\"0 0 24 24\"\n",
              "       width=\"24px\">\n",
              "    <path d=\"M0 0h24v24H0V0z\" fill=\"none\"/>\n",
              "    <path d=\"M18.56 5.44l.94 2.06.94-2.06 2.06-.94-2.06-.94-.94-2.06-.94 2.06-2.06.94zm-11 1L8.5 8.5l.94-2.06 2.06-.94-2.06-.94L8.5 2.5l-.94 2.06-2.06.94zm10 10l.94 2.06.94-2.06 2.06-.94-2.06-.94-.94-2.06-.94 2.06-2.06.94z\"/><path d=\"M17.41 7.96l-1.37-1.37c-.4-.4-.92-.59-1.43-.59-.52 0-1.04.2-1.43.59L10.3 9.45l-7.72 7.72c-.78.78-.78 2.05 0 2.83L4 21.41c.39.39.9.59 1.41.59.51 0 1.02-.2 1.41-.59l7.78-7.78 2.81-2.81c.8-.78.8-2.07 0-2.86zM5.41 20L4 18.59l7.72-7.72 1.47 1.35L5.41 20z\"/>\n",
              "  </svg>\n",
              "      </button>\n",
              "      \n",
              "  <style>\n",
              "    .colab-df-container {\n",
              "      display:flex;\n",
              "      flex-wrap:wrap;\n",
              "      gap: 12px;\n",
              "    }\n",
              "\n",
              "    .colab-df-convert {\n",
              "      background-color: #E8F0FE;\n",
              "      border: none;\n",
              "      border-radius: 50%;\n",
              "      cursor: pointer;\n",
              "      display: none;\n",
              "      fill: #1967D2;\n",
              "      height: 32px;\n",
              "      padding: 0 0 0 0;\n",
              "      width: 32px;\n",
              "    }\n",
              "\n",
              "    .colab-df-convert:hover {\n",
              "      background-color: #E2EBFA;\n",
              "      box-shadow: 0px 1px 2px rgba(60, 64, 67, 0.3), 0px 1px 3px 1px rgba(60, 64, 67, 0.15);\n",
              "      fill: #174EA6;\n",
              "    }\n",
              "\n",
              "    [theme=dark] .colab-df-convert {\n",
              "      background-color: #3B4455;\n",
              "      fill: #D2E3FC;\n",
              "    }\n",
              "\n",
              "    [theme=dark] .colab-df-convert:hover {\n",
              "      background-color: #434B5C;\n",
              "      box-shadow: 0px 1px 3px 1px rgba(0, 0, 0, 0.15);\n",
              "      filter: drop-shadow(0px 1px 2px rgba(0, 0, 0, 0.3));\n",
              "      fill: #FFFFFF;\n",
              "    }\n",
              "  </style>\n",
              "\n",
              "      <script>\n",
              "        const buttonEl =\n",
              "          document.querySelector('#df-25d2c1a1-98f8-4d70-a320-84539e38bd9a button.colab-df-convert');\n",
              "        buttonEl.style.display =\n",
              "          google.colab.kernel.accessAllowed ? 'block' : 'none';\n",
              "\n",
              "        async function convertToInteractive(key) {\n",
              "          const element = document.querySelector('#df-25d2c1a1-98f8-4d70-a320-84539e38bd9a');\n",
              "          const dataTable =\n",
              "            await google.colab.kernel.invokeFunction('convertToInteractive',\n",
              "                                                     [key], {});\n",
              "          if (!dataTable) return;\n",
              "\n",
              "          const docLinkHtml = 'Like what you see? Visit the ' +\n",
              "            '<a target=\"_blank\" href=https://colab.research.google.com/notebooks/data_table.ipynb>data table notebook</a>'\n",
              "            + ' to learn more about interactive tables.';\n",
              "          element.innerHTML = '';\n",
              "          dataTable['output_type'] = 'display_data';\n",
              "          await google.colab.output.renderOutput(dataTable, element);\n",
              "          const docLink = document.createElement('div');\n",
              "          docLink.innerHTML = docLinkHtml;\n",
              "          element.appendChild(docLink);\n",
              "        }\n",
              "      </script>\n",
              "    </div>\n",
              "  </div>\n",
              "  "
            ]
          },
          "metadata": {},
          "execution_count": 80
        }
      ]
    },
    {
      "cell_type": "code",
      "source": [
        "from sklearn.preprocessing import StandardScaler\n",
        "\n",
        "# Identify the class with only one instance\n",
        "single_class = df_train_ohe['vehicle_claim_cnt_pd_0'].value_counts().loc[lambda x: x == 1].index[0]\n",
        "\n",
        "# Filter out the rows with the single class\n",
        "df_train_filtered = df_train_ohe[df_train_ohe['vehicle_claim_cnt_pd_0'] != single_class]\n",
        "df_test_filtered = df_test_ohe[df_test_ohe['vehicle_claim_cnt_pd_0'] != single_class]\n",
        "\n",
        "# Separate the features and target again\n",
        "X_train_filtered = df_train_filtered.drop('vehicle_claim_cnt_pd_0', axis=1)\n",
        "y_train_filtered = df_train_filtered['vehicle_claim_cnt_pd_0']\n",
        "\n",
        "X_test_filtered = df_test_filtered.drop('vehicle_claim_cnt_pd_0', axis=1)\n",
        "y_test_filtered = df_test_filtered['vehicle_claim_cnt_pd_0']\n",
        "\n",
        "# Check if any column has the same value for all rows\n",
        "col_to_drop = []\n",
        "for col in X_train_filtered.columns:\n",
        "    if X_train_filtered[col].nunique() == 1:\n",
        "        col_to_drop.append(col)\n",
        "\n",
        "    # Remove the columns with the same value for all rows\n",
        "if col_to_drop:\n",
        "    X_train_filtered = X_train_filtered.drop(columns=col_to_drop)\n",
        "    X_test_filtered = X_test_filtered.drop(columns=col_to_drop)\n",
        "\n",
        "# Get column names\n",
        "var_columns = X_train_filtered.columns.tolist()\n",
        "\n",
        "# Scaling\n",
        "standizer = StandardScaler()\n",
        "X_train_filtered = standizer.fit_transform(X_train_filtered)\n",
        "X_test_filtered = standizer.fit_transform(X_test_filtered)"
      ],
      "metadata": {
        "id": "MUqcifvJR3ct"
      },
      "execution_count": 115,
      "outputs": []
    },
    {
      "cell_type": "code",
      "execution_count": 82,
      "metadata": {
        "colab": {
          "base_uri": "https://localhost:8080/",
          "height": 364
        },
        "id": "k2-8z6gRLIHK",
        "outputId": "ff0c4f2b-fc87-49a8-fe13-641e3a4a792b"
      },
      "outputs": [
        {
          "output_type": "stream",
          "name": "stdout",
          "text": [
            "      Iter       Train Loss      OOB Improve   Remaining Time \n",
            "         1           0.2882          -0.0018           86.90m\n",
            "         2           0.2883           0.0008           74.37m\n",
            "         3           0.2832           0.0018           68.54m\n",
            "         4           0.2840           0.0003           63.49m\n",
            "         5           0.3447          -0.0738           58.64m\n",
            "         6           0.3095           0.0365           55.22m\n",
            "         7           0.2997           0.0156           52.99m\n",
            "         8           0.2984           0.0007           51.79m\n",
            "         9           0.2965           0.0029           50.63m\n",
            "        10           0.2935           0.0006           49.57m\n",
            "        20 354376037360.3782 -355433432738.6561           44.42m\n",
            "        30 261177268287082003913074249039872.0000           0.0001           46.04m\n",
            "        40 156258122523.7241           0.0000           44.37m\n"
          ]
        },
        {
          "output_type": "execute_result",
          "data": {
            "text/plain": [
              "GradientBoostingClassifier(learning_rate=0.05, max_features='log2',\n",
              "                           n_estimators=5000, n_iter_no_change=20,\n",
              "                           subsample=0.5, verbose=1)"
            ],
            "text/html": [
              "<style>#sk-container-id-1 {color: black;background-color: white;}#sk-container-id-1 pre{padding: 0;}#sk-container-id-1 div.sk-toggleable {background-color: white;}#sk-container-id-1 label.sk-toggleable__label {cursor: pointer;display: block;width: 100%;margin-bottom: 0;padding: 0.3em;box-sizing: border-box;text-align: center;}#sk-container-id-1 label.sk-toggleable__label-arrow:before {content: \"▸\";float: left;margin-right: 0.25em;color: #696969;}#sk-container-id-1 label.sk-toggleable__label-arrow:hover:before {color: black;}#sk-container-id-1 div.sk-estimator:hover label.sk-toggleable__label-arrow:before {color: black;}#sk-container-id-1 div.sk-toggleable__content {max-height: 0;max-width: 0;overflow: hidden;text-align: left;background-color: #f0f8ff;}#sk-container-id-1 div.sk-toggleable__content pre {margin: 0.2em;color: black;border-radius: 0.25em;background-color: #f0f8ff;}#sk-container-id-1 input.sk-toggleable__control:checked~div.sk-toggleable__content {max-height: 200px;max-width: 100%;overflow: auto;}#sk-container-id-1 input.sk-toggleable__control:checked~label.sk-toggleable__label-arrow:before {content: \"▾\";}#sk-container-id-1 div.sk-estimator input.sk-toggleable__control:checked~label.sk-toggleable__label {background-color: #d4ebff;}#sk-container-id-1 div.sk-label input.sk-toggleable__control:checked~label.sk-toggleable__label {background-color: #d4ebff;}#sk-container-id-1 input.sk-hidden--visually {border: 0;clip: rect(1px 1px 1px 1px);clip: rect(1px, 1px, 1px, 1px);height: 1px;margin: -1px;overflow: hidden;padding: 0;position: absolute;width: 1px;}#sk-container-id-1 div.sk-estimator {font-family: monospace;background-color: #f0f8ff;border: 1px dotted black;border-radius: 0.25em;box-sizing: border-box;margin-bottom: 0.5em;}#sk-container-id-1 div.sk-estimator:hover {background-color: #d4ebff;}#sk-container-id-1 div.sk-parallel-item::after {content: \"\";width: 100%;border-bottom: 1px solid gray;flex-grow: 1;}#sk-container-id-1 div.sk-label:hover label.sk-toggleable__label {background-color: #d4ebff;}#sk-container-id-1 div.sk-serial::before {content: \"\";position: absolute;border-left: 1px solid gray;box-sizing: border-box;top: 0;bottom: 0;left: 50%;z-index: 0;}#sk-container-id-1 div.sk-serial {display: flex;flex-direction: column;align-items: center;background-color: white;padding-right: 0.2em;padding-left: 0.2em;position: relative;}#sk-container-id-1 div.sk-item {position: relative;z-index: 1;}#sk-container-id-1 div.sk-parallel {display: flex;align-items: stretch;justify-content: center;background-color: white;position: relative;}#sk-container-id-1 div.sk-item::before, #sk-container-id-1 div.sk-parallel-item::before {content: \"\";position: absolute;border-left: 1px solid gray;box-sizing: border-box;top: 0;bottom: 0;left: 50%;z-index: -1;}#sk-container-id-1 div.sk-parallel-item {display: flex;flex-direction: column;z-index: 1;position: relative;background-color: white;}#sk-container-id-1 div.sk-parallel-item:first-child::after {align-self: flex-end;width: 50%;}#sk-container-id-1 div.sk-parallel-item:last-child::after {align-self: flex-start;width: 50%;}#sk-container-id-1 div.sk-parallel-item:only-child::after {width: 0;}#sk-container-id-1 div.sk-dashed-wrapped {border: 1px dashed gray;margin: 0 0.4em 0.5em 0.4em;box-sizing: border-box;padding-bottom: 0.4em;background-color: white;}#sk-container-id-1 div.sk-label label {font-family: monospace;font-weight: bold;display: inline-block;line-height: 1.2em;}#sk-container-id-1 div.sk-label-container {text-align: center;}#sk-container-id-1 div.sk-container {/* jupyter's `normalize.less` sets `[hidden] { display: none; }` but bootstrap.min.css set `[hidden] { display: none !important; }` so we also need the `!important` here to be able to override the default hidden behavior on the sphinx rendered scikit-learn.org. See: https://github.com/scikit-learn/scikit-learn/issues/21755 */display: inline-block !important;position: relative;}#sk-container-id-1 div.sk-text-repr-fallback {display: none;}</style><div id=\"sk-container-id-1\" class=\"sk-top-container\"><div class=\"sk-text-repr-fallback\"><pre>GradientBoostingClassifier(learning_rate=0.05, max_features=&#x27;log2&#x27;,\n",
              "                           n_estimators=5000, n_iter_no_change=20,\n",
              "                           subsample=0.5, verbose=1)</pre><b>In a Jupyter environment, please rerun this cell to show the HTML representation or trust the notebook. <br />On GitHub, the HTML representation is unable to render, please try loading this page with nbviewer.org.</b></div><div class=\"sk-container\" hidden><div class=\"sk-item\"><div class=\"sk-estimator sk-toggleable\"><input class=\"sk-toggleable__control sk-hidden--visually\" id=\"sk-estimator-id-1\" type=\"checkbox\" checked><label for=\"sk-estimator-id-1\" class=\"sk-toggleable__label sk-toggleable__label-arrow\">GradientBoostingClassifier</label><div class=\"sk-toggleable__content\"><pre>GradientBoostingClassifier(learning_rate=0.05, max_features=&#x27;log2&#x27;,\n",
              "                           n_estimators=5000, n_iter_no_change=20,\n",
              "                           subsample=0.5, verbose=1)</pre></div></div></div></div></div>"
            ]
          },
          "metadata": {},
          "execution_count": 82
        }
      ],
      "source": [
        "model_gbm = GradientBoostingClassifier(n_estimators=5000,\n",
        "                                       learning_rate=0.05,\n",
        "                                       max_depth=3,\n",
        "                                       subsample=0.5,\n",
        "                                       validation_fraction=0.1,\n",
        "                                       n_iter_no_change=20,\n",
        "                                       max_features='log2',\n",
        "                                       verbose=1)\n",
        "model_gbm.fit(X_train_filtered, y_train_filtered)"
      ]
    },
    {
      "cell_type": "code",
      "execution_count": 102,
      "metadata": {
        "colab": {
          "base_uri": "https://localhost:8080/"
        },
        "id": "zVj_oct2LIHM",
        "outputId": "a33fd519-da63-4ab6-e838-76d1be7cdc01"
      },
      "outputs": [
        {
          "output_type": "stream",
          "name": "stdout",
          "text": [
            "(220381, 4)\n",
            "(220381,)\n",
            "AUC Train: 0.7449\n",
            "AUC Valid: 0.7108\n"
          ]
        }
      ],
      "source": [
        "y_train_pred = model_gbm.predict_proba(X_train_filtered)\n",
        "y_test_pred = model_gbm.predict_proba(X_test_filtered)\n",
        "print(y_train_pred.shape)\n",
        "print(y_train_filtered.shape)\n",
        "\n",
        "print(\"AUC Train: {:.4f}\\nAUC Valid: {:.4f}\".format(roc_auc_score(y_train_filtered, y_train_pred, multi_class='ovr'),\n",
        "                                                    roc_auc_score(y_test_filtered, y_test_pred, multi_class='ovr')))"
      ]
    },
    {
      "cell_type": "markdown",
      "metadata": {
        "id": "3_Hd5sACLIHM"
      },
      "source": [
        "## Step 2: Look at performance with respect to number of trees\n",
        "`staged_predict_proba` function allows us to look at predictions at for different number of trees in the model"
      ]
    },
    {
      "cell_type": "code",
      "execution_count": 109,
      "metadata": {
        "colab": {
          "base_uri": "https://localhost:8080/"
        },
        "id": "nP5P4670LIHN",
        "outputId": "01e5d636-26f3-4a9c-edb5-faddf3249c6f"
      },
      "outputs": [
        {
          "output_type": "execute_result",
          "data": {
            "text/plain": [
              "((107, 220381, 4), (107, 63651, 4))"
            ]
          },
          "metadata": {},
          "execution_count": 109
        }
      ],
      "source": [
        "y_train_pred_trees = np.stack(list(model_gbm.staged_predict_proba(X_train_filtered)))\n",
        "y_test_pred_trees = np.stack(list(model_gbm.staged_predict_proba(X_test_filtered)))\n",
        "\n",
        "y_train_pred_trees.shape, y_test_pred_trees.shape"
      ]
    },
    {
      "cell_type": "code",
      "execution_count": 111,
      "metadata": {
        "id": "CyIEmKKTLIHN"
      },
      "outputs": [],
      "source": [
        "auc_train_trees = [roc_auc_score(y_train_filtered, y_train_pred, multi_class='ovr') for y_train_pred in y_train_pred_trees]\n",
        "auc_valid_trees = [roc_auc_score(y_test_filtered, y_test_pred, multi_class='ovr') for y_test_pred in y_test_pred_trees]"
      ]
    },
    {
      "cell_type": "code",
      "execution_count": 113,
      "metadata": {
        "colab": {
          "base_uri": "https://localhost:8080/",
          "height": 487
        },
        "id": "2jSO_oTNLIHO",
        "outputId": "7a04dce3-c379-4707-8f36-2ffd9845ee2e"
      },
      "outputs": [
        {
          "output_type": "display_data",
          "data": {
            "text/plain": [
              "<Figure size 1200x500 with 1 Axes>"
            ],
            "image/png": "[encoded data removed]"
          },
          "metadata": {}
        }
      ],
      "source": [
        "plt.figure(figsize=(12,5))\n",
        "\n",
        "plt.plot(auc_train_trees, label='Train Data')\n",
        "plt.plot(auc_valid_trees, label='Test Data')\n",
        "\n",
        "plt.title('AUC vs Number of Trees')\n",
        "plt.ylabel('AUC')\n",
        "plt.xlabel('Number of Trees')\n",
        "plt.legend()\n",
        "\n",
        "plt.show()"
      ]
    },
    {
      "cell_type": "markdown",
      "metadata": {
        "id": "ACzIYWYNLIHO"
      },
      "source": [
        "## Step 3: Feature Importance\n",
        "Low importance features can be removed from the model for simpler, faster and more stable model"
      ]
    },
    {
      "cell_type": "code",
      "execution_count": 116,
      "metadata": {
        "colab": {
          "base_uri": "https://localhost:8080/",
          "height": 958
        },
        "id": "rqjRe0yqLIHO",
        "outputId": "21edd1f6-db8d-4cbe-cdad-3bb99350d61e"
      },
      "outputs": [
        {
          "output_type": "execute_result",
          "data": {
            "text/plain": [
              "                            Variable_Name  Importance\n",
              "1                          annual_mileage    0.382493\n",
              "15                           driver_count    0.101576\n",
              "7                            credit_score    0.100128\n",
              "3                          min_driver_age    0.077086\n",
              "6                   youthful_driver_count    0.074843\n",
              "2                          max_driver_age    0.046645\n",
              "4                         mean_driver_age    0.039451\n",
              "13                          vehicle_count    0.034009\n",
              "0                             vehicle_age    0.028706\n",
              "5                       min_driver_tenure    0.018799\n",
              "14           vehicle_claim_time_since_all    0.015058\n",
              "8                        household_tenure    0.012953\n",
              "9                        multiline_houses    0.011975\n",
              "26              garaging_location_country    0.009608\n",
              "22                     vehicle_type_sedan    0.007030\n",
              "24                       vehicle_type_suv    0.005638\n",
              "25                       vehicle_type_van    0.005125\n",
              "27             garaging_location_downtown    0.003723\n",
              "19                           coverage_mpc    0.003424\n",
              "10      multiline_personal_article_policy    0.003244\n",
              "20                           coverage_ubi    0.002701\n",
              "18                           coverage_ers    0.002554\n",
              "28               garaging_location_suburb    0.002243\n",
              "12                       multiline_rental    0.002071\n",
              "23                vehicle_type_sports car    0.001971\n",
              "21                    vehicle_type_pickup    0.001888\n",
              "16                          coverage_coll    0.001766\n",
              "11  multiline_personal_liability_umbrella    0.001720\n",
              "17                          coverage_comp    0.001571"
            ],
            "text/html": [
              "\n",
              "  <div id=\"df-ad417482-816a-403b-9d74-02bb58b3e163\">\n",
              "    <div class=\"colab-df-container\">\n",
              "      <div>\n",
              "<style scoped>\n",
              "    .dataframe tbody tr th:only-of-type {\n",
              "        vertical-align: middle;\n",
              "    }\n",
              "\n",
              "    .dataframe tbody tr th {\n",
              "        vertical-align: top;\n",
              "    }\n",
              "\n",
              "    .dataframe thead th {\n",
              "        text-align: right;\n",
              "    }\n",
              "</style>\n",
              "<table border=\"1\" class=\"dataframe\">\n",
              "  <thead>\n",
              "    <tr style=\"text-align: right;\">\n",
              "      <th></th>\n",
              "      <th>Variable_Name</th>\n",
              "      <th>Importance</th>\n",
              "    </tr>\n",
              "  </thead>\n",
              "  <tbody>\n",
              "    <tr>\n",
              "      <th>1</th>\n",
              "      <td>annual_mileage</td>\n",
              "      <td>0.382493</td>\n",
              "    </tr>\n",
              "    <tr>\n",
              "      <th>15</th>\n",
              "      <td>driver_count</td>\n",
              "      <td>0.101576</td>\n",
              "    </tr>\n",
              "    <tr>\n",
              "      <th>7</th>\n",
              "      <td>credit_score</td>\n",
              "      <td>0.100128</td>\n",
              "    </tr>\n",
              "    <tr>\n",
              "      <th>3</th>\n",
              "      <td>min_driver_age</td>\n",
              "      <td>0.077086</td>\n",
              "    </tr>\n",
              "    <tr>\n",
              "      <th>6</th>\n",
              "      <td>youthful_driver_count</td>\n",
              "      <td>0.074843</td>\n",
              "    </tr>\n",
              "    <tr>\n",
              "      <th>2</th>\n",
              "      <td>max_driver_age</td>\n",
              "      <td>0.046645</td>\n",
              "    </tr>\n",
              "    <tr>\n",
              "      <th>4</th>\n",
              "      <td>mean_driver_age</td>\n",
              "      <td>0.039451</td>\n",
              "    </tr>\n",
              "    <tr>\n",
              "      <th>13</th>\n",
              "      <td>vehicle_count</td>\n",
              "      <td>0.034009</td>\n",
              "    </tr>\n",
              "    <tr>\n",
              "      <th>0</th>\n",
              "      <td>vehicle_age</td>\n",
              "      <td>0.028706</td>\n",
              "    </tr>\n",
              "    <tr>\n",
              "      <th>5</th>\n",
              "      <td>min_driver_tenure</td>\n",
              "      <td>0.018799</td>\n",
              "    </tr>\n",
              "    <tr>\n",
              "      <th>14</th>\n",
              "      <td>vehicle_claim_time_since_all</td>\n",
              "      <td>0.015058</td>\n",
              "    </tr>\n",
              "    <tr>\n",
              "      <th>8</th>\n",
              "      <td>household_tenure</td>\n",
              "      <td>0.012953</td>\n",
              "    </tr>\n",
              "    <tr>\n",
              "      <th>9</th>\n",
              "      <td>multiline_houses</td>\n",
              "      <td>0.011975</td>\n",
              "    </tr>\n",
              "    <tr>\n",
              "      <th>26</th>\n",
              "      <td>garaging_location_country</td>\n",
              "      <td>0.009608</td>\n",
              "    </tr>\n",
              "    <tr>\n",
              "      <th>22</th>\n",
              "      <td>vehicle_type_sedan</td>\n",
              "      <td>0.007030</td>\n",
              "    </tr>\n",
              "    <tr>\n",
              "      <th>24</th>\n",
              "      <td>vehicle_type_suv</td>\n",
              "      <td>0.005638</td>\n",
              "    </tr>\n",
              "    <tr>\n",
              "      <th>25</th>\n",
              "      <td>vehicle_type_van</td>\n",
              "      <td>0.005125</td>\n",
              "    </tr>\n",
              "    <tr>\n",
              "      <th>27</th>\n",
              "      <td>garaging_location_downtown</td>\n",
              "      <td>0.003723</td>\n",
              "    </tr>\n",
              "    <tr>\n",
              "      <th>19</th>\n",
              "      <td>coverage_mpc</td>\n",
              "      <td>0.003424</td>\n",
              "    </tr>\n",
              "    <tr>\n",
              "      <th>10</th>\n",
              "      <td>multiline_personal_article_policy</td>\n",
              "      <td>0.003244</td>\n",
              "    </tr>\n",
              "    <tr>\n",
              "      <th>20</th>\n",
              "      <td>coverage_ubi</td>\n",
              "      <td>0.002701</td>\n",
              "    </tr>\n",
              "    <tr>\n",
              "      <th>18</th>\n",
              "      <td>coverage_ers</td>\n",
              "      <td>0.002554</td>\n",
              "    </tr>\n",
              "    <tr>\n",
              "      <th>28</th>\n",
              "      <td>garaging_location_suburb</td>\n",
              "      <td>0.002243</td>\n",
              "    </tr>\n",
              "    <tr>\n",
              "      <th>12</th>\n",
              "      <td>multiline_rental</td>\n",
              "      <td>0.002071</td>\n",
              "    </tr>\n",
              "    <tr>\n",
              "      <th>23</th>\n",
              "      <td>vehicle_type_sports car</td>\n",
              "      <td>0.001971</td>\n",
              "    </tr>\n",
              "    <tr>\n",
              "      <th>21</th>\n",
              "      <td>vehicle_type_pickup</td>\n",
              "      <td>0.001888</td>\n",
              "    </tr>\n",
              "    <tr>\n",
              "      <th>16</th>\n",
              "      <td>coverage_coll</td>\n",
              "      <td>0.001766</td>\n",
              "    </tr>\n",
              "    <tr>\n",
              "      <th>11</th>\n",
              "      <td>multiline_personal_liability_umbrella</td>\n",
              "      <td>0.001720</td>\n",
              "    </tr>\n",
              "    <tr>\n",
              "      <th>17</th>\n",
              "      <td>coverage_comp</td>\n",
              "      <td>0.001571</td>\n",
              "    </tr>\n",
              "  </tbody>\n",
              "</table>\n",
              "</div>\n",
              "      <button class=\"colab-df-convert\" onclick=\"convertToInteractive('df-ad417482-816a-403b-9d74-02bb58b3e163')\"\n",
              "              title=\"Convert this dataframe to an interactive table.\"\n",
              "              style=\"display:none;\">\n",
              "        \n",
              "  <svg xmlns=\"http://www.w3.org/2000/svg\" height=\"24px\"viewBox=\"0 0 24 24\"\n",
              "       width=\"24px\">\n",
              "    <path d=\"M0 0h24v24H0V0z\" fill=\"none\"/>\n",
              "    <path d=\"M18.56 5.44l.94 2.06.94-2.06 2.06-.94-2.06-.94-.94-2.06-.94 2.06-2.06.94zm-11 1L8.5 8.5l.94-2.06 2.06-.94-2.06-.94L8.5 2.5l-.94 2.06-2.06.94zm10 10l.94 2.06.94-2.06 2.06-.94-2.06-.94-.94-2.06-.94 2.06-2.06.94z\"/><path d=\"M17.41 7.96l-1.37-1.37c-.4-.4-.92-.59-1.43-.59-.52 0-1.04.2-1.43.59L10.3 9.45l-7.72 7.72c-.78.78-.78 2.05 0 2.83L4 21.41c.39.39.9.59 1.41.59.51 0 1.02-.2 1.41-.59l7.78-7.78 2.81-2.81c.8-.78.8-2.07 0-2.86zM5.41 20L4 18.59l7.72-7.72 1.47 1.35L5.41 20z\"/>\n",
              "  </svg>\n",
              "      </button>\n",
              "      \n",
              "  <style>\n",
              "    .colab-df-container {\n",
              "      display:flex;\n",
              "      flex-wrap:wrap;\n",
              "      gap: 12px;\n",
              "    }\n",
              "\n",
              "    .colab-df-convert {\n",
              "      background-color: #E8F0FE;\n",
              "      border: none;\n",
              "      border-radius: 50%;\n",
              "      cursor: pointer;\n",
              "      display: none;\n",
              "      fill: #1967D2;\n",
              "      height: 32px;\n",
              "      padding: 0 0 0 0;\n",
              "      width: 32px;\n",
              "    }\n",
              "\n",
              "    .colab-df-convert:hover {\n",
              "      background-color: #E2EBFA;\n",
              "      box-shadow: 0px 1px 2px rgba(60, 64, 67, 0.3), 0px 1px 3px 1px rgba(60, 64, 67, 0.15);\n",
              "      fill: #174EA6;\n",
              "    }\n",
              "\n",
              "    [theme=dark] .colab-df-convert {\n",
              "      background-color: #3B4455;\n",
              "      fill: #D2E3FC;\n",
              "    }\n",
              "\n",
              "    [theme=dark] .colab-df-convert:hover {\n",
              "      background-color: #434B5C;\n",
              "      box-shadow: 0px 1px 3px 1px rgba(0, 0, 0, 0.15);\n",
              "      filter: drop-shadow(0px 1px 2px rgba(0, 0, 0, 0.3));\n",
              "      fill: #FFFFFF;\n",
              "    }\n",
              "  </style>\n",
              "\n",
              "      <script>\n",
              "        const buttonEl =\n",
              "          document.querySelector('#df-ad417482-816a-403b-9d74-02bb58b3e163 button.colab-df-convert');\n",
              "        buttonEl.style.display =\n",
              "          google.colab.kernel.accessAllowed ? 'block' : 'none';\n",
              "\n",
              "        async function convertToInteractive(key) {\n",
              "          const element = document.querySelector('#df-ad417482-816a-403b-9d74-02bb58b3e163');\n",
              "          const dataTable =\n",
              "            await google.colab.kernel.invokeFunction('convertToInteractive',\n",
              "                                                     [key], {});\n",
              "          if (!dataTable) return;\n",
              "\n",
              "          const docLinkHtml = 'Like what you see? Visit the ' +\n",
              "            '<a target=\"_blank\" href=https://colab.research.google.com/notebooks/data_table.ipynb>data table notebook</a>'\n",
              "            + ' to learn more about interactive tables.';\n",
              "          element.innerHTML = '';\n",
              "          dataTable['output_type'] = 'display_data';\n",
              "          await google.colab.output.renderOutput(dataTable, element);\n",
              "          const docLink = document.createElement('div');\n",
              "          docLink.innerHTML = docLinkHtml;\n",
              "          element.appendChild(docLink);\n",
              "        }\n",
              "      </script>\n",
              "    </div>\n",
              "  </div>\n",
              "  "
            ]
          },
          "metadata": {},
          "execution_count": 116
        }
      ],
      "source": [
        "pd.DataFrame({\"Variable_Name\":var_columns,\n",
        "              \"Importance\":model_gbm.feature_importances_}) \\\n",
        "            .sort_values('Importance', ascending=False)"
      ]
    },
    {
      "cell_type": "markdown",
      "metadata": {
        "id": "VPbaI5JtLIHP"
      },
      "source": [
        "### Step 4: Scoring for Test Data\n",
        "First, read test.csv and sample_submissions.csv"
      ]
    },
    {
      "cell_type": "code",
      "execution_count": null,
      "metadata": {
        "id": "bXp6dLKuLIHP",
        "outputId": "1e622c76-1e78-402c-bf83-bba3e7709d30"
      },
      "outputs": [
        {
          "ename": "NameError",
          "evalue": "name 'pd' is not defined",
          "output_type": "error",
          "traceback": [
            "\u001b[0;31m---------------------------------------------------------------------------\u001b[0m",
            "\u001b[0;31mNameError\u001b[0m                                 Traceback (most recent call last)",
            "Input \u001b[0;32mIn [19]\u001b[0m, in \u001b[0;36m<cell line: 1>\u001b[0;34m()\u001b[0m\n\u001b[0;32m----> 1\u001b[0m df_test \u001b[38;5;241m=\u001b[39m \u001b[43mpd\u001b[49m\u001b[38;5;241m.\u001b[39mread_csv(\u001b[38;5;124m'\u001b[39m\u001b[38;5;124mSource to Target Mapping - claims_data.csv\u001b[39m\u001b[38;5;124m'\u001b[39m)\n\u001b[1;32m      4\u001b[0m df_test\u001b[38;5;241m.\u001b[39mshape, df_sample_submission\u001b[38;5;241m.\u001b[39mshape\n",
            "\u001b[0;31mNameError\u001b[0m: name 'pd' is not defined"
          ]
        }
      ],
      "source": [
        "df_test = pd.read_csv('Source to Target Mapping - claims_data.csv')\n",
        "\n",
        "\n",
        "df_test.shape"
      ]
    },
    {
      "cell_type": "code",
      "execution_count": null,
      "metadata": {
        "scrolled": true,
        "id": "0o1zNM_rLIHQ",
        "outputId": "79b56f9c-30d7-4950-b840-8eb2d2cf2c22"
      },
      "outputs": [
        {
          "ename": "NameError",
          "evalue": "name 'df_test' is not defined",
          "output_type": "error",
          "traceback": [
            "\u001b[0;31m---------------------------------------------------------------------------\u001b[0m",
            "\u001b[0;31mNameError\u001b[0m                                 Traceback (most recent call last)",
            "Input \u001b[0;32mIn [18]\u001b[0m, in \u001b[0;36m<cell line: 1>\u001b[0;34m()\u001b[0m\n\u001b[0;32m----> 1\u001b[0m X_test \u001b[38;5;241m=\u001b[39m \u001b[43mdf_test\u001b[49m\u001b[38;5;241m.\u001b[39mloc[:,var_columns]\n\u001b[1;32m      3\u001b[0m df_sample_submission[\u001b[38;5;124m'\u001b[39m\u001b[38;5;124mtarget\u001b[39m\u001b[38;5;124m'\u001b[39m] \u001b[38;5;241m=\u001b[39m model_gbm\u001b[38;5;241m.\u001b[39mpredict_proba(X_test)[:,\u001b[38;5;241m1\u001b[39m]\n\u001b[1;32m      4\u001b[0m df_sample_submission\n",
            "\u001b[0;31mNameError\u001b[0m: name 'df_test' is not defined"
          ]
        }
      ],
      "source": [
        "X_test = df_test.loc[:,var_columns]\n",
        "\n",
        "df_sample_submission['target'] = model_gbm.predict_proba(X_test)[:,1]\n",
        "df_sample_submission"
      ]
    },
    {
      "cell_type": "markdown",
      "metadata": {
        "id": "ySY9QPWhLIHQ"
      },
      "source": [
        "Save the output as a csv"
      ]
    },
    {
      "cell_type": "code",
      "execution_count": null,
      "metadata": {
        "id": "yyrpplkcLIHQ"
      },
      "outputs": [],
      "source": []
    }
  ],
  "metadata": {
    "kernelspec": {
      "display_name": "Python 3 (ipykernel)",
      "language": "python",
      "name": "python3"
    },
    "language_info": {
      "codemirror_mode": {
        "name": "ipython",
        "version": 3
      },
      "file_extension": ".py",
      "mimetype": "text/x-python",
      "name": "python",
      "nbconvert_exporter": "python",
      "pygments_lexer": "ipython3",
      "version": "3.9.12"
    },
    "colab": {
      "provenance": []
    }
  },
  "nbformat": 4,
  "nbformat_minor": 0
}